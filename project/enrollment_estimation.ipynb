{
 "cells": [
  {
   "cell_type": "code",
   "execution_count": 202,
   "metadata": {},
   "outputs": [
    {
     "name": "stdout",
     "output_type": "stream",
     "text": [
      "Populating the interactive namespace from numpy and matplotlib\n"
     ]
    }
   ],
   "source": [
    "%pylab inline \n",
    "\n",
    "import numpy as np\n",
    "import pandas as pd\n",
    "import scipy.stats as stats\n",
    "import statsmodels.api as sm\n",
    "from statsmodels.api import OLS\n",
    "from linearmodels.panel import PanelOLS\n",
    "import matplotlib.pyplot as plt\n",
    "import matplotlib.ticker as mtick\n",
    "from sklearn.model_selection import train_test_split\n",
    "from sklearn.kernel_ridge import KernelRidge\n",
    "from sklearn.model_selection import KFold\n",
    "from sklearn.metrics import r2_score"
   ]
  },
  {
   "cell_type": "code",
   "execution_count": 227,
   "metadata": {
    "scrolled": false
   },
   "outputs": [],
   "source": [
    "df = pd.read_csv(\"./SSI ACA Data/ACA_ENROLL.csv\")\n",
    "df2 = pd.read_csv(\"./SSI ACA Data/state_effects.csv\")\n",
    "df = df.merge(df2, left_on=\"State\", right_on=\"entity\")\n",
    "\n",
    "#split the 50 states into training and test sets\n",
    "trainx, testx, trainy, testy = train_test_split(df[[\"d_pct_EmpPerCap_1\", \"d_pct_ACA_Enroll\", \"MedExpDummy\", \"effects\"]], \n",
    "                                                df.d_pct_BenePerCap, test_size=0.2)\n",
    "train_set = pd.concat([trainx, trainy], axis=1)\n",
    "test_set = pd.concat([testx, testy], axis=1)"
   ]
  },
  {
   "cell_type": "code",
   "execution_count": 199,
   "metadata": {},
   "outputs": [
    {
     "name": "stdout",
     "output_type": "stream",
     "text": [
      "                            OLS Regression Results                            \n",
      "==============================================================================\n",
      "Dep. Variable:       d_pct_BenePerCap   R-squared:                       0.422\n",
      "Model:                            OLS   Adj. R-squared:                  0.358\n",
      "Method:                 Least Squares   F-statistic:                     6.569\n",
      "Date:                Thu, 28 Sep 2017   Prob (F-statistic):           0.000447\n",
      "Time:                        01:39:54   Log-Likelihood:                 139.66\n",
      "No. Observations:                  40   AIC:                            -271.3\n",
      "Df Residuals:                      36   BIC:                            -264.6\n",
      "Df Model:                           4                                         \n",
      "Covariance Type:            nonrobust                                         \n",
      "=====================================================================================\n",
      "                        coef    std err          t      P>|t|      [0.025      0.975]\n",
      "-------------------------------------------------------------------------------------\n",
      "d_pct_EmpPerCap_1    -0.8670      0.220     -3.941      0.000      -1.313      -0.421\n",
      "d_pct_ACA_Enroll     -0.0005      0.001     -0.634      0.530      -0.002       0.001\n",
      "MedExpDummy          -0.0026      0.002     -1.112      0.274      -0.007       0.002\n",
      "effects               0.5585      0.129      4.337      0.000       0.297       0.820\n",
      "==============================================================================\n",
      "Omnibus:                        2.057   Durbin-Watson:                   2.316\n",
      "Prob(Omnibus):                  0.358   Jarque-Bera (JB):                1.113\n",
      "Skew:                          -0.349   Prob(JB):                        0.573\n",
      "Kurtosis:                       3.426   Cond. No.                         514.\n",
      "==============================================================================\n",
      "\n",
      "Warnings:\n",
      "[1] Standard Errors assume that the covariance matrix of the errors is correctly specified.\n"
     ]
    }
   ],
   "source": [
    "mod_lin_enroll = OLS.from_formula(\"d_pct_BenePerCap ~ d_pct_EmpPerCap_1 + d_pct_ACA_Enroll + MedExpDummy + effects -1 \", train_set).fit()\n",
    "print(mod_lin_enroll.summary())"
   ]
  },
  {
   "cell_type": "code",
   "execution_count": null,
   "metadata": {},
   "outputs": [],
   "source": []
  },
  {
   "cell_type": "code",
   "execution_count": 200,
   "metadata": {
    "scrolled": true
   },
   "outputs": [
    {
     "name": "stdout",
     "output_type": "stream",
     "text": [
      "                            OLS Regression Results                            \n",
      "==============================================================================\n",
      "Dep. Variable:       d_pct_BenePerCap   R-squared:                       0.395\n",
      "Model:                            OLS   Adj. R-squared:                  0.363\n",
      "Method:                 Least Squares   F-statistic:                     12.38\n",
      "Date:                Thu, 28 Sep 2017   Prob (F-statistic):           7.23e-05\n",
      "Time:                        01:40:00   Log-Likelihood:                 138.73\n",
      "No. Observations:                  40   AIC:                            -273.5\n",
      "Df Residuals:                      38   BIC:                            -270.1\n",
      "Df Model:                           2                                         \n",
      "Covariance Type:            nonrobust                                         \n",
      "=====================================================================================\n",
      "                        coef    std err          t      P>|t|      [0.025      0.975]\n",
      "-------------------------------------------------------------------------------------\n",
      "d_pct_EmpPerCap_1    -0.9693      0.196     -4.938      0.000      -1.367      -0.572\n",
      "effects               0.5219      0.125      4.170      0.000       0.269       0.775\n",
      "==============================================================================\n",
      "Omnibus:                        1.582   Durbin-Watson:                   2.355\n",
      "Prob(Omnibus):                  0.453   Jarque-Bera (JB):                0.928\n",
      "Skew:                          -0.364   Prob(JB):                        0.629\n",
      "Kurtosis:                       3.165   Cond. No.                         4.84\n",
      "==============================================================================\n",
      "\n",
      "Warnings:\n",
      "[1] Standard Errors assume that the covariance matrix of the errors is correctly specified.\n"
     ]
    }
   ],
   "source": [
    "mod_lin_minimal = OLS.from_formula(\"d_pct_BenePerCap ~ d_pct_EmpPerCap_1 + effects -1 \", train_set).fit()\n",
    "print(mod_lin_minimal.summary())"
   ]
  },
  {
   "cell_type": "code",
   "execution_count": 228,
   "metadata": {},
   "outputs": [
    {
     "name": "stderr",
     "output_type": "stream",
     "text": [
      "C:\\Users\\Will\\Anaconda3\\lib\\site-packages\\ipykernel_launcher.py:11: FutureWarning: reshape is deprecated and will raise in a subsequent release. Please use .values.reshape(...) instead\n",
      "  # This is added back by InteractiveShellApp.init_path()\n"
     ]
    },
    {
     "data": {
      "text/plain": [
       "KernelRidge(alpha=0.15, coef0=1, degree=3, gamma=0.1, kernel='rbf',\n",
       "      kernel_params=None)"
      ]
     },
     "execution_count": 228,
     "metadata": {},
     "output_type": "execute_result"
    }
   ],
   "source": [
    "#just to exercise doing 5 fold cross validation, I did a nonlinear kernel ridge regression as well\n",
    "#the below tunes the alpha parameter\n",
    "from sklearn.preprocessing import StandardScaler\n",
    "\n",
    "train_set[\"id\"] = range(0, len(train_set))\n",
    "train_set = train_set.reset_index()\n",
    "train_set = train_set.set_index(\"id\")\n",
    "\n",
    "scaler = StandardScaler()\n",
    "X= scaler.fit_transform(train_set[[\"d_pct_EmpPerCap_1\", \"d_pct_ACA_Enroll\", \"MedExpDummy\", \"effects\"]])\n",
    "y= scaler.fit_transform(train_set[\"d_pct_BenePerCap\"].reshape(-1,1))\n",
    "alphas = [0.01, 0.02, 0.03, 0.04, 0.05, 0.06, 0.07, 0.08, 0.9, 0.1, 0.12, 0.15]\n",
    "best_score = -np.inf\n",
    "best_alpha= None\n",
    "for alpha in alphas:\n",
    "    krm = KernelRidge(alpha=alpha, kernel='rbf', gamma=0.1)\n",
    "    result = 0\n",
    "    for train, test in KFold(5).split(train_set):\n",
    "        krm.fit(X[train], y[train])\n",
    "        krm.predict(X[test])\n",
    "        result += krm.score(X[test], y[test])\n",
    "    score = result/5\n",
    "    if score > best_score:\n",
    "        best_alpha = alpha\n",
    "        best_score=score\n",
    "krm.fit(X,y)"
   ]
  },
  {
   "cell_type": "code",
   "execution_count": 229,
   "metadata": {},
   "outputs": [
    {
     "data": {
      "text/plain": [
       "-4597.7415167079762"
      ]
     },
     "execution_count": 229,
     "metadata": {},
     "output_type": "execute_result"
    }
   ],
   "source": [
    "#so we will now test the three models against the test set.  first, the R squared for the kernel ridge model\n",
    "krm_preds= krm.predict(test_set[[\"d_pct_EmpPerCap_1\", \"d_pct_ACA_Enroll\", \"MedExpDummy\", \"effects\"]])\n",
    "\n",
    "r2_score(y_pred=krm_preds, y_true=test_set[\"d_pct_BenePerCap\"])"
   ]
  },
  {
   "cell_type": "code",
   "execution_count": 204,
   "metadata": {},
   "outputs": [
    {
     "data": {
      "text/plain": [
       "0.054869559774659349"
      ]
     },
     "execution_count": 204,
     "metadata": {},
     "output_type": "execute_result"
    }
   ],
   "source": [
    "enroll_preds = mod_lin_enroll.predict(test_set[[\"d_pct_EmpPerCap_1\", \"d_pct_ACA_Enroll\", \"MedExpDummy\", \"effects\"]])\n",
    "r2_score(y_pred=enroll_preds, y_true=test_set[\"d_pct_BenePerCap\"])"
   ]
  },
  {
   "cell_type": "code",
   "execution_count": 213,
   "metadata": {},
   "outputs": [
    {
     "data": {
      "text/plain": [
       "0.073784247849253415"
      ]
     },
     "execution_count": 213,
     "metadata": {},
     "output_type": "execute_result"
    }
   ],
   "source": [
    "min_preds = mod_lin_minimal.predict(test_set[[\"d_pct_EmpPerCap_1\", \"effects\"]])\n",
    "r2_score(y_pred=min_preds, y_true=test_set[\"d_pct_BenePerCap\"])"
   ]
  },
  {
   "cell_type": "code",
   "execution_count": null,
   "metadata": {
    "scrolled": true
   },
   "outputs": [],
   "source": []
  },
  {
   "cell_type": "code",
   "execution_count": null,
   "metadata": {},
   "outputs": [],
   "source": []
  },
  {
   "cell_type": "code",
   "execution_count": null,
   "metadata": {
    "collapsed": true
   },
   "outputs": [],
   "source": []
  }
 ],
 "metadata": {
  "kernelspec": {
   "display_name": "Python 3",
   "language": "python",
   "name": "python3"
  },
  "language_info": {
   "codemirror_mode": {
    "name": "ipython",
    "version": 3
   },
   "file_extension": ".py",
   "mimetype": "text/x-python",
   "name": "python",
   "nbconvert_exporter": "python",
   "pygments_lexer": "ipython3",
   "version": "3.6.1"
  }
 },
 "nbformat": 4,
 "nbformat_minor": 2
}
