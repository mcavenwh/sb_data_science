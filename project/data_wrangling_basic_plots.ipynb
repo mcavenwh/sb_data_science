{
 "cells": [
  {
   "cell_type": "code",
   "execution_count": 306,
   "metadata": {},
   "outputs": [
    {
     "name": "stdout",
     "output_type": "stream",
     "text": [
      "Populating the interactive namespace from numpy and matplotlib\n"
     ]
    }
   ],
   "source": [
    "%pylab inline \n",
    "\n",
    "import numpy as np\n",
    "import pandas as pd\n",
    "import scipy.stats as stats\n",
    "import matplotlib.pyplot as plt\n",
    "\n"
   ]
  },
  {
   "cell_type": "markdown",
   "metadata": {},
   "source": [
    "Source links for data\n",
    "\n",
    "-Medicaid Expansion http://www.kff.org/health-reform/state-indicator/state-activity-around-expanding-medicaid-under-the-affordable-care-act/?currentTimeframe=0&sortModel=%7B%22colId%22:%22Location%22,%22sort%22:%22asc%22%7D\n",
    "\n",
    "(note: \n",
    "\n",
    "1.Coverage under the Medicaid expansion became effective January 1, 2014 in all states that have adopted the Medicaid expansion except for the following: Michigan (4/1/2014), New Hampshire (8/15/2014), Pennsylvania (1/1/2015), Indiana (2/1/2015), Alaska (9/1/2015), Montana (1/1/2016), and Louisiana (7/1/2016).\n",
    "\n",
    "2.Arizona, Arkansas, Indiana, Iowa, Michigan, Montana, and New Hampshire have approved Section 1115 waivers for the Medicaid expansion. Arizona received CMS approval on September 30, 2016 to transition expansion coverage to 1115 waiver authority; implementation of the waiver provisions related to the expansion population are pending CMS approval of the state's Operational Protocol.\n",
    "\n",
    "3.Wisconsin covers adults up to 100% FPL in Medicaid but did not adopt the ACA expansion.\n",
    "\n",
    ")\n",
    "\n",
    "-Mean Age by State: https://www.census.gov/cps/data/cpstablecreator.html\n",
    "\n",
    "-Disability Enrollment data by State and total: https://www.ssa.gov/policy/docs/statcomps/di_asr/ [Year 2005-2015] /sect05.xlsx\n",
    "\n",
    "-Census Regions and Divisions https://www2.census.gov/programs-surveys/popest/geographies/2011/state-geocodes-v2011.xls\n",
    "\n",
    "-Per Capita GDP https://www.bea.gov/itable/iTable.cfm?ReqID=70&step=1#reqid=70&step=10&isuri=1&7003=1000&7035=-1&7004=naics&7005=1&7006=xx&7036=-1&7001=11000&7002=1&7090=70&7007=-1&7093=levels\n",
    "\n",
    "-Per Capita Personal Income https://www.bea.gov/itable/iTable.cfm?ReqID=70&step=1#reqid=70&step=30&isuri=1&7003=1000&7035=-1&7004=naics&7022=21&7005=1&7023=0&7033=-1&7024=non-industry&7006=xx&7025=0&7026=xx&7027=-1&7036=-1&7001=421&7028=-1&7002=1&7031=0&7040=-1&7083=levels&7029=21&7090=70&7093=levels&7007=-1\n",
    "\n",
    "-Wages, Compensation, Employment https://www.bea.gov/regional/downloadzip.cfm (Annual State Personal Income and Employment, all areas)\n",
    "\n",
    "-ACA enrollment data\n",
    "2014 https://aspe.hhs.gov/system/files/pdf/76806/ib_2014mar_enrollment.pdf\n",
    "2015 https://aspe.hhs.gov/system/files/pdf/83656/ib_2015mar_enrollment.pdf\n",
    "2016 (unused) https://aspe.hhs.gov/system/files/pdf/187866/Finalenrollment2016.pdf, https://aspe.hhs.gov/system/files/aspe-files/187871/marketplacestatefinal2016.xlsx\n",
    "\n"
   ]
  },
  {
   "cell_type": "markdown",
   "metadata": {},
   "source": [
    "First, a basic series is provided by the Social Security Administration on total disability population at a nationwide level from 1996 through 2015.  As a first look at the data, we will put this in a dataframe and plot it."
   ]
  },
  {
   "cell_type": "code",
   "execution_count": 307,
   "metadata": {
    "collapsed": true,
    "scrolled": false
   },
   "outputs": [],
   "source": [
    "df = pd.read_excel('.\\SSI ACA data\\SSI\\SSI2015.xlsx', sheetname='Table 66',names=['Year', 'Beneficiaries'] , skiprows=4, skip_footer=52, parse_cols='A,C')\n",
    "\n",
    "NATL_SSI = df.set_index('Year')"
   ]
  },
  {
   "cell_type": "code",
   "execution_count": 308,
   "metadata": {},
   "outputs": [
    {
     "data": {
      "image/png": "[encoded data removed]",
      "text/plain": [
       "<matplotlib.figure.Figure at 0x1e35e8f8d68>"
      ]
     },
     "metadata": {},
     "output_type": "display_data"
    }
   ],
   "source": [
    "plt.plot (NATL_SSI.Beneficiaries)\n",
    "NATL_SSI[\"d_pct_Beneficiaries\"] = NATL_SSI.Beneficiaries.pct_change()\n",
    "NATL_SSI.to_csv(\"./SSI ACA Data/NATL_SSI.csv\")"
   ]
  },
  {
   "cell_type": "code",
   "execution_count": 309,
   "metadata": {
    "scrolled": false
   },
   "outputs": [
    {
     "data": {
      "text/plain": [
       "[<matplotlib.lines.Line2D at 0x1e359603c88>]"
      ]
     },
     "execution_count": 309,
     "metadata": {},
     "output_type": "execute_result"
    },
    {
     "data": {
      "image/png": "[encoded data removed]",
      "text/plain": [
       "<matplotlib.figure.Figure at 0x1e35e1acd68>"
      ]
     },
     "metadata": {},
     "output_type": "display_data"
    }
   ],
   "source": [
    "plt.plot (NATL_SSI.d_pct_Beneficiaries)"
   ]
  },
  {
   "cell_type": "markdown",
   "metadata": {},
   "source": [
    "The plot shows a distinct drop off in the growth rate of disability beneficiaries corresponding to the timeframe of interest (roughly 2013-2015 as the ACA was phased in).  However this is a raw number and further exploration is required (for instance, population adjustment).\n",
    "\n",
    "The SSA also provides state by state data in the 2004-2015 timeframe.  However they are all in separate spreadsheets so some code is required to put the data into a proper panel.  This panel will be the basis for the SSI information I will use in my project (with additional regressors from other data sources).  Previous commented out code above in the workbook was used for a mass download from SSA.gov of this information."
   ]
  },
  {
   "cell_type": "code",
   "execution_count": 310,
   "metadata": {
    "collapsed": true,
    "scrolled": true
   },
   "outputs": [],
   "source": [
    "df = pd.DataFrame()\n",
    "\n",
    "sht = 'Table 66'\n",
    "for x in range(2005, 2016):\n",
    "    if x == 2007: sht = 'Table 67' #they keep changing the tab name in these sheets :(\n",
    "    if x == 2013: sht = 'Table 68'\n",
    "    tmp = pd.read_excel('.\\SSI ACA Data\\SSI\\SSI'+str(x)+'.xlsx', sheetname=sht, names=['State', 'Pop', 'Beneficiaries', 'Pct_Bene'], skiprows=3, skip_footer=9, parse_cols='A, C, D, E')\n",
    "    tmp['Year'] = x\n",
    "    df = df.append(tmp)\n",
    "\n",
    "df = df.fillna('United States')\n",
    "df = df.set_index('Year')\n"
   ]
  },
  {
   "cell_type": "markdown",
   "metadata": {},
   "source": [
    "These datasheets provide state by state data, in levels and in percent of the population, for disability enrollments.  First lets re-run nationwide numbers as percentage of total population:"
   ]
  },
  {
   "cell_type": "code",
   "execution_count": 311,
   "metadata": {},
   "outputs": [
    {
     "data": {
      "text/plain": [
       "[<matplotlib.lines.Line2D at 0x1e35fd93a90>]"
      ]
     },
     "execution_count": 311,
     "metadata": {},
     "output_type": "execute_result"
    },
    {
     "data": {
      "image/png": "[encoded data removed]",
      "text/plain": [
       "<matplotlib.figure.Figure at 0x1e35cd50400>"
      ]
     },
     "metadata": {},
     "output_type": "display_data"
    }
   ],
   "source": [
    "plt.plot(df[df.State=='United States'].Pct_Bene)"
   ]
  },
  {
   "cell_type": "markdown",
   "metadata": {},
   "source": [
    "As a percentage of the population, we see the at-this-point well known increase in the rate of growth of disability enrollments beginning in the financial crisis era, and we also see a levelling of in roughly the ACA era.\n",
    "\n",
    "The ACA was a federally funded program but much of the implementation (and some of the funding) was left up to the states.  With the panel data we've constructed, we can take an initial look at the effects by State.  The below states were selected blindly for this data exploration exercise, but I looked at ACA sympathetic and non ACA sympathetic states, populous and non populous just to get a sense of the variety of effects we might see."
   ]
  },
  {
   "cell_type": "code",
   "execution_count": 312,
   "metadata": {},
   "outputs": [
    {
     "data": {
      "text/plain": [
       "[<matplotlib.lines.Line2D at 0x1e35ff45e80>]"
      ]
     },
     "execution_count": 312,
     "metadata": {},
     "output_type": "execute_result"
    },
    {
     "data": {
      "image/png": "[encoded data removed]",
      "text/plain": [
       "<matplotlib.figure.Figure at 0x1e35e605b00>"
      ]
     },
     "metadata": {},
     "output_type": "display_data"
    }
   ],
   "source": [
    "plt.plot(df[df.State=='Massachusetts'].Pct_Bene)"
   ]
  },
  {
   "cell_type": "code",
   "execution_count": 313,
   "metadata": {},
   "outputs": [
    {
     "data": {
      "text/plain": [
       "[<matplotlib.lines.Line2D at 0x1e35fd3f1d0>]"
      ]
     },
     "execution_count": 313,
     "metadata": {},
     "output_type": "execute_result"
    },
    {
     "data": {
      "image/png": "[encoded data removed]",
      "text/plain": [
       "<matplotlib.figure.Figure at 0x1e36013c748>"
      ]
     },
     "metadata": {},
     "output_type": "display_data"
    }
   ],
   "source": [
    "plt.plot(df[df.State=='California'].Pct_Bene)"
   ]
  },
  {
   "cell_type": "code",
   "execution_count": 314,
   "metadata": {},
   "outputs": [
    {
     "data": {
      "text/plain": [
       "[<matplotlib.lines.Line2D at 0x1e35fe6e7b8>]"
      ]
     },
     "execution_count": 314,
     "metadata": {},
     "output_type": "execute_result"
    },
    {
     "data": {
      "image/png": "[encoded data removed]",
      "text/plain": [
       "<matplotlib.figure.Figure at 0x1e35fd67518>"
      ]
     },
     "metadata": {},
     "output_type": "display_data"
    }
   ],
   "source": [
    "plt.plot(df[df.State=='Texas'].Pct_Bene)"
   ]
  },
  {
   "cell_type": "code",
   "execution_count": 315,
   "metadata": {},
   "outputs": [
    {
     "data": {
      "text/plain": [
       "[<matplotlib.lines.Line2D at 0x1e35fc89470>]"
      ]
     },
     "execution_count": 315,
     "metadata": {},
     "output_type": "execute_result"
    },
    {
     "data": {
      "image/png": "[encoded data removed]",
      "text/plain": [
       "<matplotlib.figure.Figure at 0x1e35e5f4908>"
      ]
     },
     "metadata": {},
     "output_type": "display_data"
    }
   ],
   "source": [
    "plt.plot(df[df.State=='Mississippi'].Pct_Bene)"
   ]
  },
  {
   "cell_type": "code",
   "execution_count": 316,
   "metadata": {},
   "outputs": [
    {
     "data": {
      "text/plain": [
       "[<matplotlib.lines.Line2D at 0x1e35e67b128>]"
      ]
     },
     "execution_count": 316,
     "metadata": {},
     "output_type": "execute_result"
    },
    {
     "data": {
      "image/png": "[encoded data removed]",
      "text/plain": [
       "<matplotlib.figure.Figure at 0x1e35c8067b8>"
      ]
     },
     "metadata": {},
     "output_type": "display_data"
    }
   ],
   "source": [
    "plt.plot(df[df.State=='Alabama'].Pct_Bene)"
   ]
  },
  {
   "cell_type": "code",
   "execution_count": 317,
   "metadata": {},
   "outputs": [
    {
     "data": {
      "text/plain": [
       "[<matplotlib.lines.Line2D at 0x1e35e641748>]"
      ]
     },
     "execution_count": 317,
     "metadata": {},
     "output_type": "execute_result"
    },
    {
     "data": {
      "image/png": "[encoded data removed]",
      "text/plain": [
       "<matplotlib.figure.Figure at 0x1e35e605128>"
      ]
     },
     "metadata": {},
     "output_type": "display_data"
    }
   ],
   "source": [
    "plt.plot(df[df.State=='Alaska'].Pct_Bene)"
   ]
  },
  {
   "cell_type": "code",
   "execution_count": 318,
   "metadata": {},
   "outputs": [
    {
     "data": {
      "text/plain": [
       "[<matplotlib.lines.Line2D at 0x1e35e7074a8>]"
      ]
     },
     "execution_count": 318,
     "metadata": {},
     "output_type": "execute_result"
    },
    {
     "data": {
      "image/png": "[encoded data removed]",
      "text/plain": [
       "<matplotlib.figure.Figure at 0x1e35e387588>"
      ]
     },
     "metadata": {},
     "output_type": "display_data"
    }
   ],
   "source": [
    "plt.plot(df[df.State=='Wyoming'].Pct_Bene)"
   ]
  },
  {
   "cell_type": "code",
   "execution_count": 319,
   "metadata": {},
   "outputs": [
    {
     "data": {
      "text/plain": [
       "[<matplotlib.lines.Line2D at 0x1e35e7e8048>]"
      ]
     },
     "execution_count": 319,
     "metadata": {},
     "output_type": "execute_result"
    },
    {
     "data": {
      "image/png": "[encoded data removed]",
      "text/plain": [
       "<matplotlib.figure.Figure at 0x1e35e7762e8>"
      ]
     },
     "metadata": {},
     "output_type": "display_data"
    }
   ],
   "source": [
    "plt.plot(df[df.State=='Idaho'].Pct_Bene)"
   ]
  },
  {
   "cell_type": "code",
   "execution_count": 320,
   "metadata": {},
   "outputs": [
    {
     "data": {
      "text/plain": [
       "[<matplotlib.lines.Line2D at 0x1e35e97ea20>]"
      ]
     },
     "execution_count": 320,
     "metadata": {},
     "output_type": "execute_result"
    },
    {
     "data": {
      "image/png": "[encoded data removed]",
      "text/plain": [
       "<matplotlib.figure.Figure at 0x1e35e8141d0>"
      ]
     },
     "metadata": {},
     "output_type": "display_data"
    }
   ],
   "source": [
    "plt.plot(df[df.State=='Maine'].Pct_Bene)"
   ]
  },
  {
   "cell_type": "code",
   "execution_count": 321,
   "metadata": {
    "collapsed": true
   },
   "outputs": [],
   "source": [
    "PANEL_SSI = df\n"
   ]
  },
  {
   "cell_type": "code",
   "execution_count": 322,
   "metadata": {
    "collapsed": true
   },
   "outputs": [],
   "source": [
    "#read in per state GDP per capita figures\n",
    "df = pd.read_csv('.\\SSI ACA data\\gsp_naics_all_PC.csv', engine='python', header=0 , skipfooter=11)\n",
    "df = df.drop(['GeoFIPS', 'Region', 'ComponentId','ComponentName', 'IndustryId', 'IndustryClassification','Description'], axis=1)\n",
    "#arrange as panel data (e.g. State, Year, Value)\n",
    "df=df.set_index('GeoName').stack().reset_index().rename(columns = {\"GeoName\":\"State\", \"level_1\":\"Year\", 0:\"GDPpercap\"})\n",
    "df['Year']=df['Year'].apply(pd.to_numeric)\n",
    "#merge with the larger panel\n",
    "PANEL_SSI = df.merge(PANEL_SSI.reset_index(), on=['State', 'Year'])"
   ]
  },
  {
   "cell_type": "code",
   "execution_count": 323,
   "metadata": {},
   "outputs": [
    {
     "data": {
      "text/html": [
       "<div>\n",
       "<style>\n",
       "    .dataframe thead tr:only-child th {\n",
       "        text-align: right;\n",
       "    }\n",
       "\n",
       "    .dataframe thead th {\n",
       "        text-align: left;\n",
       "    }\n",
       "\n",
       "    .dataframe tbody tr th {\n",
       "        vertical-align: top;\n",
       "    }\n",
       "</style>\n",
       "<table border=\"1\" class=\"dataframe\">\n",
       "  <thead>\n",
       "    <tr style=\"text-align: right;\">\n",
       "      <th></th>\n",
       "      <th>State</th>\n",
       "      <th>Year</th>\n",
       "      <th>GDPpercap</th>\n",
       "      <th>Pop</th>\n",
       "      <th>Beneficiaries</th>\n",
       "      <th>Pct_Bene</th>\n",
       "    </tr>\n",
       "  </thead>\n",
       "  <tbody>\n",
       "    <tr>\n",
       "      <th>0</th>\n",
       "      <td>United States</td>\n",
       "      <td>2005</td>\n",
       "      <td>48062</td>\n",
       "      <td>186150307</td>\n",
       "      <td>9900578</td>\n",
       "      <td>5.300000</td>\n",
       "    </tr>\n",
       "    <tr>\n",
       "      <th>1</th>\n",
       "      <td>United States</td>\n",
       "      <td>2006</td>\n",
       "      <td>48880</td>\n",
       "      <td>188402570</td>\n",
       "      <td>10180455</td>\n",
       "      <td>5.400000</td>\n",
       "    </tr>\n",
       "    <tr>\n",
       "      <th>2</th>\n",
       "      <td>United States</td>\n",
       "      <td>2007</td>\n",
       "      <td>49126</td>\n",
       "      <td>189831466</td>\n",
       "      <td>10440382</td>\n",
       "      <td>5.500000</td>\n",
       "    </tr>\n",
       "    <tr>\n",
       "      <th>3</th>\n",
       "      <td>United States</td>\n",
       "      <td>2008</td>\n",
       "      <td>48401</td>\n",
       "      <td>191248160</td>\n",
       "      <td>10785828</td>\n",
       "      <td>5.600000</td>\n",
       "    </tr>\n",
       "    <tr>\n",
       "      <th>4</th>\n",
       "      <td>United States</td>\n",
       "      <td>2009</td>\n",
       "      <td>46680</td>\n",
       "      <td>192887745</td>\n",
       "      <td>11254927</td>\n",
       "      <td>5.834962</td>\n",
       "    </tr>\n",
       "    <tr>\n",
       "      <th>5</th>\n",
       "      <td>United States</td>\n",
       "      <td>2010</td>\n",
       "      <td>47287</td>\n",
       "      <td>194296087</td>\n",
       "      <td>11780167</td>\n",
       "      <td>6.062998</td>\n",
       "    </tr>\n",
       "    <tr>\n",
       "      <th>6</th>\n",
       "      <td>United States</td>\n",
       "      <td>2011</td>\n",
       "      <td>47587</td>\n",
       "      <td>196263504</td>\n",
       "      <td>12159875</td>\n",
       "      <td>6.200000</td>\n",
       "    </tr>\n",
       "    <tr>\n",
       "      <th>7</th>\n",
       "      <td>United States</td>\n",
       "      <td>2012</td>\n",
       "      <td>48157</td>\n",
       "      <td>197040596</td>\n",
       "      <td>12513314</td>\n",
       "      <td>6.400000</td>\n",
       "    </tr>\n",
       "    <tr>\n",
       "      <th>8</th>\n",
       "      <td>United States</td>\n",
       "      <td>2013</td>\n",
       "      <td>48504</td>\n",
       "      <td>197838893</td>\n",
       "      <td>12735462</td>\n",
       "      <td>6.400000</td>\n",
       "    </tr>\n",
       "    <tr>\n",
       "      <th>9</th>\n",
       "      <td>United States</td>\n",
       "      <td>2014</td>\n",
       "      <td>49203</td>\n",
       "      <td>199030227</td>\n",
       "      <td>12768929</td>\n",
       "      <td>6.400000</td>\n",
       "    </tr>\n",
       "    <tr>\n",
       "      <th>10</th>\n",
       "      <td>United States</td>\n",
       "      <td>2015</td>\n",
       "      <td>50054</td>\n",
       "      <td>200012857</td>\n",
       "      <td>12745170</td>\n",
       "      <td>6.400000</td>\n",
       "    </tr>\n",
       "    <tr>\n",
       "      <th>11</th>\n",
       "      <td>Alabama</td>\n",
       "      <td>2005</td>\n",
       "      <td>37578</td>\n",
       "      <td>2864322</td>\n",
       "      <td>253441</td>\n",
       "      <td>8.800000</td>\n",
       "    </tr>\n",
       "    <tr>\n",
       "      <th>12</th>\n",
       "      <td>Alabama</td>\n",
       "      <td>2006</td>\n",
       "      <td>37735</td>\n",
       "      <td>2869132</td>\n",
       "      <td>262425</td>\n",
       "      <td>9.100000</td>\n",
       "    </tr>\n",
       "    <tr>\n",
       "      <th>13</th>\n",
       "      <td>Alabama</td>\n",
       "      <td>2007</td>\n",
       "      <td>37522</td>\n",
       "      <td>2878558</td>\n",
       "      <td>269559</td>\n",
       "      <td>9.400000</td>\n",
       "    </tr>\n",
       "    <tr>\n",
       "      <th>14</th>\n",
       "      <td>Alabama</td>\n",
       "      <td>2008</td>\n",
       "      <td>36976</td>\n",
       "      <td>2898356</td>\n",
       "      <td>277589</td>\n",
       "      <td>9.600000</td>\n",
       "    </tr>\n",
       "    <tr>\n",
       "      <th>15</th>\n",
       "      <td>Alabama</td>\n",
       "      <td>2009</td>\n",
       "      <td>35376</td>\n",
       "      <td>2928795</td>\n",
       "      <td>290222</td>\n",
       "      <td>9.909263</td>\n",
       "    </tr>\n",
       "    <tr>\n",
       "      <th>16</th>\n",
       "      <td>Alabama</td>\n",
       "      <td>2010</td>\n",
       "      <td>35915</td>\n",
       "      <td>2989485</td>\n",
       "      <td>303980</td>\n",
       "      <td>10.168307</td>\n",
       "    </tr>\n",
       "    <tr>\n",
       "      <th>17</th>\n",
       "      <td>Alabama</td>\n",
       "      <td>2011</td>\n",
       "      <td>36192</td>\n",
       "      <td>3003011</td>\n",
       "      <td>314282</td>\n",
       "      <td>10.500000</td>\n",
       "    </tr>\n",
       "    <tr>\n",
       "      <th>18</th>\n",
       "      <td>Alabama</td>\n",
       "      <td>2012</td>\n",
       "      <td>36424</td>\n",
       "      <td>2998237</td>\n",
       "      <td>324887</td>\n",
       "      <td>10.800000</td>\n",
       "    </tr>\n",
       "    <tr>\n",
       "      <th>19</th>\n",
       "      <td>Alabama</td>\n",
       "      <td>2013</td>\n",
       "      <td>36611</td>\n",
       "      <td>3001075</td>\n",
       "      <td>330202</td>\n",
       "      <td>11.000000</td>\n",
       "    </tr>\n",
       "    <tr>\n",
       "      <th>20</th>\n",
       "      <td>Alabama</td>\n",
       "      <td>2014</td>\n",
       "      <td>36524</td>\n",
       "      <td>2997874</td>\n",
       "      <td>329329</td>\n",
       "      <td>11.000000</td>\n",
       "    </tr>\n",
       "    <tr>\n",
       "      <th>21</th>\n",
       "      <td>Alabama</td>\n",
       "      <td>2015</td>\n",
       "      <td>36750</td>\n",
       "      <td>2991321</td>\n",
       "      <td>326369</td>\n",
       "      <td>10.900000</td>\n",
       "    </tr>\n",
       "    <tr>\n",
       "      <th>22</th>\n",
       "      <td>Alaska</td>\n",
       "      <td>2005</td>\n",
       "      <td>61125</td>\n",
       "      <td>431311</td>\n",
       "      <td>15400</td>\n",
       "      <td>3.600000</td>\n",
       "    </tr>\n",
       "    <tr>\n",
       "      <th>23</th>\n",
       "      <td>Alaska</td>\n",
       "      <td>2006</td>\n",
       "      <td>64349</td>\n",
       "      <td>442989</td>\n",
       "      <td>16178</td>\n",
       "      <td>3.700000</td>\n",
       "    </tr>\n",
       "    <tr>\n",
       "      <th>24</th>\n",
       "      <td>Alaska</td>\n",
       "      <td>2007</td>\n",
       "      <td>67228</td>\n",
       "      <td>453325</td>\n",
       "      <td>16574</td>\n",
       "      <td>3.700000</td>\n",
       "    </tr>\n",
       "    <tr>\n",
       "      <th>25</th>\n",
       "      <td>Alaska</td>\n",
       "      <td>2008</td>\n",
       "      <td>67527</td>\n",
       "      <td>456140</td>\n",
       "      <td>17039</td>\n",
       "      <td>3.700000</td>\n",
       "    </tr>\n",
       "    <tr>\n",
       "      <th>26</th>\n",
       "      <td>Alaska</td>\n",
       "      <td>2009</td>\n",
       "      <td>72204</td>\n",
       "      <td>462078</td>\n",
       "      <td>17901</td>\n",
       "      <td>3.874021</td>\n",
       "    </tr>\n",
       "    <tr>\n",
       "      <th>27</th>\n",
       "      <td>Alaska</td>\n",
       "      <td>2010</td>\n",
       "      <td>69565</td>\n",
       "      <td>467915</td>\n",
       "      <td>18688</td>\n",
       "      <td>3.993888</td>\n",
       "    </tr>\n",
       "    <tr>\n",
       "      <th>28</th>\n",
       "      <td>Alaska</td>\n",
       "      <td>2011</td>\n",
       "      <td>70573</td>\n",
       "      <td>476064</td>\n",
       "      <td>19631</td>\n",
       "      <td>4.100000</td>\n",
       "    </tr>\n",
       "    <tr>\n",
       "      <th>29</th>\n",
       "      <td>Alaska</td>\n",
       "      <td>2012</td>\n",
       "      <td>73464</td>\n",
       "      <td>481852</td>\n",
       "      <td>19854</td>\n",
       "      <td>4.100000</td>\n",
       "    </tr>\n",
       "    <tr>\n",
       "      <th>...</th>\n",
       "      <td>...</td>\n",
       "      <td>...</td>\n",
       "      <td>...</td>\n",
       "      <td>...</td>\n",
       "      <td>...</td>\n",
       "      <td>...</td>\n",
       "    </tr>\n",
       "    <tr>\n",
       "      <th>542</th>\n",
       "      <td>West Virginia</td>\n",
       "      <td>2008</td>\n",
       "      <td>34679</td>\n",
       "      <td>1143243</td>\n",
       "      <td>140625</td>\n",
       "      <td>12.300000</td>\n",
       "    </tr>\n",
       "    <tr>\n",
       "      <th>543</th>\n",
       "      <td>West Virginia</td>\n",
       "      <td>2009</td>\n",
       "      <td>34564</td>\n",
       "      <td>1145771</td>\n",
       "      <td>142230</td>\n",
       "      <td>12.413475</td>\n",
       "    </tr>\n",
       "    <tr>\n",
       "      <th>544</th>\n",
       "      <td>West Virginia</td>\n",
       "      <td>2010</td>\n",
       "      <td>35368</td>\n",
       "      <td>1168172</td>\n",
       "      <td>144939</td>\n",
       "      <td>12.407334</td>\n",
       "    </tr>\n",
       "    <tr>\n",
       "      <th>545</th>\n",
       "      <td>West Virginia</td>\n",
       "      <td>2011</td>\n",
       "      <td>36085</td>\n",
       "      <td>1169600</td>\n",
       "      <td>146668</td>\n",
       "      <td>12.500000</td>\n",
       "    </tr>\n",
       "    <tr>\n",
       "      <th>546</th>\n",
       "      <td>West Virginia</td>\n",
       "      <td>2012</td>\n",
       "      <td>35515</td>\n",
       "      <td>1159423</td>\n",
       "      <td>145775</td>\n",
       "      <td>12.600000</td>\n",
       "    </tr>\n",
       "    <tr>\n",
       "      <th>547</th>\n",
       "      <td>West Virginia</td>\n",
       "      <td>2013</td>\n",
       "      <td>35778</td>\n",
       "      <td>1152585</td>\n",
       "      <td>144138</td>\n",
       "      <td>12.500000</td>\n",
       "    </tr>\n",
       "    <tr>\n",
       "      <th>548</th>\n",
       "      <td>West Virginia</td>\n",
       "      <td>2014</td>\n",
       "      <td>36234</td>\n",
       "      <td>1141567</td>\n",
       "      <td>141975</td>\n",
       "      <td>12.400000</td>\n",
       "    </tr>\n",
       "    <tr>\n",
       "      <th>549</th>\n",
       "      <td>West Virginia</td>\n",
       "      <td>2015</td>\n",
       "      <td>36817</td>\n",
       "      <td>1128244</td>\n",
       "      <td>139409</td>\n",
       "      <td>12.400000</td>\n",
       "    </tr>\n",
       "    <tr>\n",
       "      <th>550</th>\n",
       "      <td>Wisconsin</td>\n",
       "      <td>2005</td>\n",
       "      <td>45131</td>\n",
       "      <td>3518573</td>\n",
       "      <td>162826</td>\n",
       "      <td>4.600000</td>\n",
       "    </tr>\n",
       "    <tr>\n",
       "      <th>551</th>\n",
       "      <td>Wisconsin</td>\n",
       "      <td>2006</td>\n",
       "      <td>45515</td>\n",
       "      <td>3519942</td>\n",
       "      <td>168202</td>\n",
       "      <td>4.800000</td>\n",
       "    </tr>\n",
       "    <tr>\n",
       "      <th>552</th>\n",
       "      <td>Wisconsin</td>\n",
       "      <td>2007</td>\n",
       "      <td>45464</td>\n",
       "      <td>3544060</td>\n",
       "      <td>173600</td>\n",
       "      <td>4.900000</td>\n",
       "    </tr>\n",
       "    <tr>\n",
       "      <th>553</th>\n",
       "      <td>Wisconsin</td>\n",
       "      <td>2008</td>\n",
       "      <td>44622</td>\n",
       "      <td>3563409</td>\n",
       "      <td>181249</td>\n",
       "      <td>5.100000</td>\n",
       "    </tr>\n",
       "    <tr>\n",
       "      <th>554</th>\n",
       "      <td>Wisconsin</td>\n",
       "      <td>2009</td>\n",
       "      <td>43215</td>\n",
       "      <td>3583245</td>\n",
       "      <td>192730</td>\n",
       "      <td>5.378644</td>\n",
       "    </tr>\n",
       "    <tr>\n",
       "      <th>555</th>\n",
       "      <td>Wisconsin</td>\n",
       "      <td>2010</td>\n",
       "      <td>44126</td>\n",
       "      <td>3570180</td>\n",
       "      <td>203488</td>\n",
       "      <td>5.699657</td>\n",
       "    </tr>\n",
       "    <tr>\n",
       "      <th>556</th>\n",
       "      <td>Wisconsin</td>\n",
       "      <td>2011</td>\n",
       "      <td>44905</td>\n",
       "      <td>3592939</td>\n",
       "      <td>209507</td>\n",
       "      <td>5.800000</td>\n",
       "    </tr>\n",
       "    <tr>\n",
       "      <th>557</th>\n",
       "      <td>Wisconsin</td>\n",
       "      <td>2012</td>\n",
       "      <td>45380</td>\n",
       "      <td>3584341</td>\n",
       "      <td>217322</td>\n",
       "      <td>6.100000</td>\n",
       "    </tr>\n",
       "    <tr>\n",
       "      <th>558</th>\n",
       "      <td>Wisconsin</td>\n",
       "      <td>2013</td>\n",
       "      <td>45582</td>\n",
       "      <td>3584970</td>\n",
       "      <td>222467</td>\n",
       "      <td>6.200000</td>\n",
       "    </tr>\n",
       "    <tr>\n",
       "      <th>559</th>\n",
       "      <td>Wisconsin</td>\n",
       "      <td>2014</td>\n",
       "      <td>46469</td>\n",
       "      <td>3581507</td>\n",
       "      <td>224129</td>\n",
       "      <td>6.300000</td>\n",
       "    </tr>\n",
       "    <tr>\n",
       "      <th>560</th>\n",
       "      <td>Wisconsin</td>\n",
       "      <td>2015</td>\n",
       "      <td>46893</td>\n",
       "      <td>3574577</td>\n",
       "      <td>225166</td>\n",
       "      <td>6.300000</td>\n",
       "    </tr>\n",
       "    <tr>\n",
       "      <th>561</th>\n",
       "      <td>Wyoming</td>\n",
       "      <td>2005</td>\n",
       "      <td>57642</td>\n",
       "      <td>332936</td>\n",
       "      <td>12957</td>\n",
       "      <td>3.900000</td>\n",
       "    </tr>\n",
       "    <tr>\n",
       "      <th>562</th>\n",
       "      <td>Wyoming</td>\n",
       "      <td>2006</td>\n",
       "      <td>63428</td>\n",
       "      <td>330460</td>\n",
       "      <td>13252</td>\n",
       "      <td>4.000000</td>\n",
       "    </tr>\n",
       "    <tr>\n",
       "      <th>563</th>\n",
       "      <td>Wyoming</td>\n",
       "      <td>2007</td>\n",
       "      <td>65471</td>\n",
       "      <td>333564</td>\n",
       "      <td>13590</td>\n",
       "      <td>4.100000</td>\n",
       "    </tr>\n",
       "    <tr>\n",
       "      <th>564</th>\n",
       "      <td>Wyoming</td>\n",
       "      <td>2008</td>\n",
       "      <td>69182</td>\n",
       "      <td>338597</td>\n",
       "      <td>14154</td>\n",
       "      <td>4.200000</td>\n",
       "    </tr>\n",
       "    <tr>\n",
       "      <th>565</th>\n",
       "      <td>Wyoming</td>\n",
       "      <td>2009</td>\n",
       "      <td>66320</td>\n",
       "      <td>345378</td>\n",
       "      <td>14716</td>\n",
       "      <td>4.260839</td>\n",
       "    </tr>\n",
       "    <tr>\n",
       "      <th>566</th>\n",
       "      <td>Wyoming</td>\n",
       "      <td>2010</td>\n",
       "      <td>64602</td>\n",
       "      <td>358134</td>\n",
       "      <td>15320</td>\n",
       "      <td>4.277728</td>\n",
       "    </tr>\n",
       "    <tr>\n",
       "      <th>567</th>\n",
       "      <td>Wyoming</td>\n",
       "      <td>2011</td>\n",
       "      <td>63981</td>\n",
       "      <td>360954</td>\n",
       "      <td>15899</td>\n",
       "      <td>4.400000</td>\n",
       "    </tr>\n",
       "    <tr>\n",
       "      <th>568</th>\n",
       "      <td>Wyoming</td>\n",
       "      <td>2012</td>\n",
       "      <td>60744</td>\n",
       "      <td>365414</td>\n",
       "      <td>16262</td>\n",
       "      <td>4.500000</td>\n",
       "    </tr>\n",
       "    <tr>\n",
       "      <th>569</th>\n",
       "      <td>Wyoming</td>\n",
       "      <td>2013</td>\n",
       "      <td>60743</td>\n",
       "      <td>366290</td>\n",
       "      <td>16756</td>\n",
       "      <td>4.600000</td>\n",
       "    </tr>\n",
       "    <tr>\n",
       "      <th>570</th>\n",
       "      <td>Wyoming</td>\n",
       "      <td>2014</td>\n",
       "      <td>61639</td>\n",
       "      <td>364189</td>\n",
       "      <td>16886</td>\n",
       "      <td>4.600000</td>\n",
       "    </tr>\n",
       "    <tr>\n",
       "      <th>571</th>\n",
       "      <td>Wyoming</td>\n",
       "      <td>2015</td>\n",
       "      <td>61389</td>\n",
       "      <td>362513</td>\n",
       "      <td>16928</td>\n",
       "      <td>4.700000</td>\n",
       "    </tr>\n",
       "  </tbody>\n",
       "</table>\n",
       "<p>572 rows × 6 columns</p>\n",
       "</div>"
      ],
      "text/plain": [
       "             State  Year  GDPpercap        Pop  Beneficiaries   Pct_Bene\n",
       "0    United States  2005      48062  186150307        9900578   5.300000\n",
       "1    United States  2006      48880  188402570       10180455   5.400000\n",
       "2    United States  2007      49126  189831466       10440382   5.500000\n",
       "3    United States  2008      48401  191248160       10785828   5.600000\n",
       "4    United States  2009      46680  192887745       11254927   5.834962\n",
       "5    United States  2010      47287  194296087       11780167   6.062998\n",
       "6    United States  2011      47587  196263504       12159875   6.200000\n",
       "7    United States  2012      48157  197040596       12513314   6.400000\n",
       "8    United States  2013      48504  197838893       12735462   6.400000\n",
       "9    United States  2014      49203  199030227       12768929   6.400000\n",
       "10   United States  2015      50054  200012857       12745170   6.400000\n",
       "11         Alabama  2005      37578    2864322         253441   8.800000\n",
       "12         Alabama  2006      37735    2869132         262425   9.100000\n",
       "13         Alabama  2007      37522    2878558         269559   9.400000\n",
       "14         Alabama  2008      36976    2898356         277589   9.600000\n",
       "15         Alabama  2009      35376    2928795         290222   9.909263\n",
       "16         Alabama  2010      35915    2989485         303980  10.168307\n",
       "17         Alabama  2011      36192    3003011         314282  10.500000\n",
       "18         Alabama  2012      36424    2998237         324887  10.800000\n",
       "19         Alabama  2013      36611    3001075         330202  11.000000\n",
       "20         Alabama  2014      36524    2997874         329329  11.000000\n",
       "21         Alabama  2015      36750    2991321         326369  10.900000\n",
       "22          Alaska  2005      61125     431311          15400   3.600000\n",
       "23          Alaska  2006      64349     442989          16178   3.700000\n",
       "24          Alaska  2007      67228     453325          16574   3.700000\n",
       "25          Alaska  2008      67527     456140          17039   3.700000\n",
       "26          Alaska  2009      72204     462078          17901   3.874021\n",
       "27          Alaska  2010      69565     467915          18688   3.993888\n",
       "28          Alaska  2011      70573     476064          19631   4.100000\n",
       "29          Alaska  2012      73464     481852          19854   4.100000\n",
       "..             ...   ...        ...        ...            ...        ...\n",
       "542  West Virginia  2008      34679    1143243         140625  12.300000\n",
       "543  West Virginia  2009      34564    1145771         142230  12.413475\n",
       "544  West Virginia  2010      35368    1168172         144939  12.407334\n",
       "545  West Virginia  2011      36085    1169600         146668  12.500000\n",
       "546  West Virginia  2012      35515    1159423         145775  12.600000\n",
       "547  West Virginia  2013      35778    1152585         144138  12.500000\n",
       "548  West Virginia  2014      36234    1141567         141975  12.400000\n",
       "549  West Virginia  2015      36817    1128244         139409  12.400000\n",
       "550      Wisconsin  2005      45131    3518573         162826   4.600000\n",
       "551      Wisconsin  2006      45515    3519942         168202   4.800000\n",
       "552      Wisconsin  2007      45464    3544060         173600   4.900000\n",
       "553      Wisconsin  2008      44622    3563409         181249   5.100000\n",
       "554      Wisconsin  2009      43215    3583245         192730   5.378644\n",
       "555      Wisconsin  2010      44126    3570180         203488   5.699657\n",
       "556      Wisconsin  2011      44905    3592939         209507   5.800000\n",
       "557      Wisconsin  2012      45380    3584341         217322   6.100000\n",
       "558      Wisconsin  2013      45582    3584970         222467   6.200000\n",
       "559      Wisconsin  2014      46469    3581507         224129   6.300000\n",
       "560      Wisconsin  2015      46893    3574577         225166   6.300000\n",
       "561        Wyoming  2005      57642     332936          12957   3.900000\n",
       "562        Wyoming  2006      63428     330460          13252   4.000000\n",
       "563        Wyoming  2007      65471     333564          13590   4.100000\n",
       "564        Wyoming  2008      69182     338597          14154   4.200000\n",
       "565        Wyoming  2009      66320     345378          14716   4.260839\n",
       "566        Wyoming  2010      64602     358134          15320   4.277728\n",
       "567        Wyoming  2011      63981     360954          15899   4.400000\n",
       "568        Wyoming  2012      60744     365414          16262   4.500000\n",
       "569        Wyoming  2013      60743     366290          16756   4.600000\n",
       "570        Wyoming  2014      61639     364189          16886   4.600000\n",
       "571        Wyoming  2015      61389     362513          16928   4.700000\n",
       "\n",
       "[572 rows x 6 columns]"
      ]
     },
     "execution_count": 323,
     "metadata": {},
     "output_type": "execute_result"
    }
   ],
   "source": [
    "PANEL_SSI"
   ]
  },
  {
   "cell_type": "code",
   "execution_count": null,
   "metadata": {
    "collapsed": true,
    "scrolled": true
   },
   "outputs": [],
   "source": []
  },
  {
   "cell_type": "code",
   "execution_count": null,
   "metadata": {
    "collapsed": true
   },
   "outputs": [],
   "source": []
  },
  {
   "cell_type": "code",
   "execution_count": 324,
   "metadata": {
    "collapsed": true
   },
   "outputs": [],
   "source": [
    "#Per capita personal income (same as above, load series, turn into panel data, load into the larger panel)\n",
    "df = pd.read_csv('.\\SSI ACA data\\SA1_1929_2016.csv', engine='python', header=0, skipfooter=28)\n",
    "df = df[df['Description']=='Per capita personal income (dollars) 2/'].drop(['GeoFIPS', 'Region', 'Table','LineCode', 'IndustryClassification','Description'], axis=1)\n",
    "df=df.set_index('GeoName').stack().reset_index().rename(columns = {\"GeoName\":\"State\", \"level_1\":\"Year\", 0:\"PIpercap\"})\n",
    "df['Year']=df['Year'].apply(pd.to_numeric)\n",
    "df = df.replace(to_replace={'State': {'Alaska*':'Alaska', 'Hawaii*':'Hawaii'}})\n",
    "PANEL_SSI = df.merge(PANEL_SSI.reset_index(), on=['State', 'Year'])"
   ]
  },
  {
   "cell_type": "code",
   "execution_count": null,
   "metadata": {
    "collapsed": true,
    "scrolled": true
   },
   "outputs": [],
   "source": []
  },
  {
   "cell_type": "code",
   "execution_count": null,
   "metadata": {
    "collapsed": true,
    "scrolled": true
   },
   "outputs": [],
   "source": []
  },
  {
   "cell_type": "code",
   "execution_count": 325,
   "metadata": {
    "collapsed": true
   },
   "outputs": [],
   "source": [
    "#Total Employment\n",
    "df = pd.read_csv('.\\SSI ACA data\\SA25N_1998_2015__ALL_AREAS.csv', engine='python', header=0, skipfooter=948)\n",
    "df = df[df['Description']=='Total employment (number of jobs)'].drop(['GeoFIPS', 'Region', 'Table','LineCode', 'IndustryClassification','Description'], axis=1)\n",
    "df=df.set_index('GeoName').stack().reset_index().rename(columns = {\"GeoName\":\"State\", \"level_1\":\"Year\", 0:\"TotalEmp\"})\n",
    "df['Year']=df['Year'].apply(pd.to_numeric)\n",
    "PANEL_SSI = df.merge(PANEL_SSI.reset_index(), on=['State', 'Year']).drop(['level_0', 'index'], axis=1)"
   ]
  },
  {
   "cell_type": "code",
   "execution_count": null,
   "metadata": {
    "collapsed": true
   },
   "outputs": [],
   "source": []
  },
  {
   "cell_type": "code",
   "execution_count": 326,
   "metadata": {
    "collapsed": true
   },
   "outputs": [],
   "source": [
    "#Total Compensation of Employees\n",
    "df = pd.read_csv('.\\SSI ACA data\\SA6N_1998_2016__ALL_AREAS.csv', engine='python', header=0, skipfooter=956)\n",
    "df = df[df['Description']=='Compensation of employees (thousands of dollars) 1/'].drop(['GeoFIPS', 'Region', 'Table','LineCode', 'IndustryClassification','Description'], axis=1)\n",
    "df = df.set_index('GeoName').stack().reset_index().rename(columns = {\"GeoName\":\"State\", \"level_1\":\"Year\", 0:\"TotalComp\"})\n",
    "df['Year']=df['Year'].apply(pd.to_numeric)\n",
    "PANEL_SSI = df.merge(PANEL_SSI.reset_index(), on=['State', 'Year']).drop(['index'], axis=1)"
   ]
  },
  {
   "cell_type": "code",
   "execution_count": 327,
   "metadata": {
    "collapsed": true
   },
   "outputs": [],
   "source": [
    "#Compensation per job\n",
    "df = pd.read_csv('.\\SSI ACA data\\SA6N_1998_2016__ALL_AREAS.csv', engine='python', header=0, skipfooter=956)\n",
    "df = df[df['Description']=='Average compensation per job (dollars) 3/'].drop(['GeoFIPS', 'Region', 'Table','LineCode', 'IndustryClassification','Description'], axis=1)\n",
    "df=df.set_index('GeoName').stack().reset_index().rename(columns = {\"GeoName\":\"State\", \"level_1\":\"Year\", 0:\"CompPerJob\"})\n",
    "df['Year']=df['Year'].apply(pd.to_numeric)\n",
    "PANEL_SSI = df.merge(PANEL_SSI.reset_index(), on=['State', 'Year']).drop(['index'], axis=1)"
   ]
  },
  {
   "cell_type": "code",
   "execution_count": 328,
   "metadata": {
    "collapsed": true
   },
   "outputs": [],
   "source": [
    "#Wages\n",
    "df = pd.read_csv('.\\SSI ACA data\\SA7N_1998_2016__ALL_AREAS.csv', engine='python', header=0, skipfooter=916)\n",
    "df = df[df['Description']=='Wages and salaries by place of work (thousands of dollars)'].drop(['GeoFIPS', 'Region', 'Table','LineCode', 'IndustryClassification','Description'], axis=1)\n",
    "df=df.set_index('GeoName').stack().reset_index().rename(columns = {\"GeoName\":\"State\", \"level_1\":\"Year\", 0:\"TotalWages\"})\n",
    "df['Year']=df['Year'].apply(pd.to_numeric)\n",
    "PANEL_SSI = df.merge(PANEL_SSI.reset_index(), on=['State', 'Year']).drop(['index'], axis=1)"
   ]
  },
  {
   "cell_type": "code",
   "execution_count": null,
   "metadata": {},
   "outputs": [],
   "source": []
  },
  {
   "cell_type": "code",
   "execution_count": 329,
   "metadata": {},
   "outputs": [],
   "source": [
    "#These are a little different than the above - I had to copy paste from a web application so the data\n",
    "#is split between two sheets for average age\n",
    "df = pd.read_excel('.\\SSI ACA data\\Avg Age by State and Year (census).xlsx', sheetname='Sheet1', \n",
    "                   names = ['StCode', '2009', '2010','2011', '2012', '2013', '2014', '2015'], \n",
    "                   parse_cols='A,C,E,G,I,K,M,O', skiprows = 3)\n",
    "df2 = pd.read_excel('.\\SSI ACA data\\Avg Age by State and Year (census).xlsx', sheetname='Sheet2', \n",
    "                   names = ['StCode', '2005','2006', '2007', '2008'], \n",
    "                   parse_cols='A, I, K, M, O', skiprows = 3)\n",
    "df = df2.merge(df, on='StCode')\n",
    "#these numbers use state codes rather than names so we have to translate them back to names using a lookup\n",
    "df2 = pd.read_excel('.\\SSI ACA data\\state codes.xls', sheetname='Sheet1', names = ['State', 'StCode'])\n",
    "df = df2.merge(df, on='StCode',how='right')\n",
    "df = df.drop(['StCode'], axis=1)\n",
    "df = df.fillna('United States')\n",
    "df = df.set_index(\"State\").stack().reset_index().rename(columns = {\"level_1\":\"Year\", 0:\"AvgAge\"})\n",
    "df[\"Year\"] = df[\"Year\"].apply(pd.to_numeric)\n",
    "PANEL_SSI = df.merge(PANEL_SSI, on=['State', 'Year'])"
   ]
  },
  {
   "cell_type": "code",
   "execution_count": 330,
   "metadata": {},
   "outputs": [],
   "source": [
    "#Poverty numbers are in the alternate columns in the average age datasheet, so this code is similar to above\n",
    "df = pd.read_excel('.\\SSI ACA data\\Avg Age by State and Year (census).xlsx', sheetname='Sheet1', \n",
    "                   names = ['StCode', '2009', '2010','2011', '2012', '2013', '2014', '2015'], \n",
    "                   parse_cols='A,B, D, F, H, J, L, N', skiprows = 3)\n",
    "df2 = pd.read_excel('.\\SSI ACA data\\Avg Age by State and Year (census).xlsx', sheetname='Sheet2', \n",
    "                   names = ['StCode', '2005','2006', '2007', '2008'], \n",
    "                   parse_cols='A, H, J, L, N', skiprows = 3)\n",
    "df = df2.merge(df, on='StCode')\n",
    "df2 = pd.read_excel('.\\SSI ACA data\\state codes.xls', sheetname='Sheet1', names = ['State', 'StCode'])\n",
    "df = df2.merge(df, on='StCode',how='right')\n",
    "df = df.drop(['StCode'], axis=1)\n",
    "df = df.fillna('United States')\n",
    "df = df.set_index(\"State\").stack().reset_index().rename(columns = {\"level_1\":\"Year\", 0:\"Pov\"})\n",
    "df[\"Year\"] = df[\"Year\"].apply(pd.to_numeric)\n",
    "PANEL_SSI = df.merge(PANEL_SSI.reset_index(), on=['State', 'Year']).drop(['index'], axis=1)"
   ]
  },
  {
   "cell_type": "code",
   "execution_count": 331,
   "metadata": {},
   "outputs": [],
   "source": [
    "#for some of our graphs, we want to display regional groups, so a lookup table for region is required\n",
    "geocodes = pd.read_excel('.\\SSI ACA Data\\state-geocodes-v2011.xls', skiprows= 5, names = ['Region', 'Division', 'StateFIPS', 'Name'])\n",
    "regions = geocodes[logical_and(geocodes[\"Division\"]==0, geocodes[\"StateFIPS\"]== 0)]\n",
    "regions = regions[['Region', 'Name']].rename(columns = {\"Name\":\"RegName\"})\n",
    "regions = regions.merge(geocodes[geocodes[\"StateFIPS\"]!= 0], on=\"Region\")\n",
    "regions = regions.drop([\"Region\", \"Division\", \"StateFIPS\"], axis=1).rename(columns = {\"Name\": \"State\"})\n",
    "regions[\"State\"] = regions[\"State\"].str.strip()\n",
    "regions[\"RegName\"] = regions[\"RegName\"].str.strip()\n",
    "PANEL_SSI = regions.merge(PANEL_SSI.reset_index(), how=\"right\", on=\"State\").drop(['index'], axis=1)"
   ]
  },
  {
   "cell_type": "code",
   "execution_count": 332,
   "metadata": {
    "collapsed": true,
    "scrolled": true
   },
   "outputs": [],
   "source": [
    "#Total Compensation and Wages are in 1000s of dollars.  Total employment is number of jobs\n",
    "PANEL_SSI[\"TotalWages\"] = PANEL_SSI[\"TotalWages\"].apply(pd.to_numeric)\n",
    "PANEL_SSI[\"CompPerJob\"] = PANEL_SSI[\"CompPerJob\"].apply(pd.to_numeric)\n",
    "PANEL_SSI[\"TotalComp\"] = PANEL_SSI[\"TotalComp\"].apply(pd.to_numeric)\n",
    "PANEL_SSI[\"TotalEmp\"] = PANEL_SSI[\"TotalEmp\"].apply(pd.to_numeric)\n",
    "PANEL_SSI[\"PIpercap\"] = PANEL_SSI[\"PIpercap\"].apply(pd.to_numeric)\n",
    "PANEL_SSI[\"CompPerCap\"] = PANEL_SSI[\"TotalComp\"]*1000/PANEL_SSI[\"Pop\"]\n",
    "PANEL_SSI[\"EmpPerCap\"] = PANEL_SSI[\"TotalEmp\"]/PANEL_SSI[\"Pop\"]\n",
    "PANEL_SSI[\"WagePerCap\"] = PANEL_SSI[\"TotalWages\"]*1000/PANEL_SSI[\"Pop\"]"
   ]
  },
  {
   "cell_type": "code",
   "execution_count": 333,
   "metadata": {},
   "outputs": [],
   "source": [
    "#PANEL_SSI = PANEL_SSI.set_index(['State', 'Year'])\n",
    "#for most of our data points, we want the year over year percentage change, which is straightforward to generate in pandas\n",
    "PANEL_SSI['d_pct_CompPerJob'] = PANEL_SSI[\"CompPerJob\"].pct_change()\n",
    "PANEL_SSI['d_pct_PIPerCap'] = PANEL_SSI[\"PIpercap\"].pct_change()\n",
    "PANEL_SSI['d_pct_GDPPerCap'] = PANEL_SSI[\"GDPpercap\"].pct_change()\n",
    "PANEL_SSI['d_pct_CompPerCap'] = PANEL_SSI[\"CompPerCap\"].pct_change()\n",
    "PANEL_SSI['d_pct_WagePerCap'] = PANEL_SSI[\"WagePerCap\"].pct_change()\n",
    "PANEL_SSI['d_pct_EmpPerCap'] = PANEL_SSI[\"EmpPerCap\"].pct_change()\n",
    "PANEL_SSI['d_pct_AvgAge'] = PANEL_SSI[\"AvgAge\"].pct_change()\n",
    "PANEL_SSI['d_pct_Pov'] = PANEL_SSI['Pov'].pct_change()\n",
    "#Pct_Bene given in the workbook is one decimal place, so I elected to recalculate it using beneficiaries and population\n",
    "PANEL_SSI['BenePerCap'] = PANEL_SSI[\"Beneficiaries\"]/PANEL_SSI[\"Pop\"]\n",
    "PANEL_SSI['d_pct_BenePerCap'] = PANEL_SSI[\"BenePerCap\"].pct_change()"
   ]
  },
  {
   "cell_type": "code",
   "execution_count": 334,
   "metadata": {
    "scrolled": true
   },
   "outputs": [],
   "source": [
    "PANEL_SSI['d_pct_CompPerJob_1'] = PANEL_SSI[\"d_pct_CompPerJob\"].shift()\n",
    "PANEL_SSI['d_pct_PIPerCap_1'] = PANEL_SSI[\"d_pct_PIPerCap\"].shift()\n",
    "PANEL_SSI['d_pct_GDPPerCap_1'] = PANEL_SSI[\"d_pct_GDPPerCap\"].shift()\n",
    "PANEL_SSI['d_pct_CompPerCap_1'] = PANEL_SSI[\"d_pct_CompPerCap\"].shift()\n",
    "PANEL_SSI['d_pct_WagePerCap_1'] = PANEL_SSI[\"d_pct_WagePerCap\"].shift()\n",
    "PANEL_SSI['d_pct_EmpPerCap_1'] = PANEL_SSI[\"d_pct_EmpPerCap\"].shift()\n",
    "PANEL_SSI['d_pct_AvgAge_1'] = PANEL_SSI[\"d_pct_AvgAge\"].shift()\n",
    "PANEL_SSI['d_pct_Pov_1'] = PANEL_SSI['Pov'].shift()\n",
    "PANEL_SSI['d_pct_BenePerCap_1'] = PANEL_SSI[\"d_pct_BenePerCap\"].shift()"
   ]
  },
  {
   "cell_type": "code",
   "execution_count": null,
   "metadata": {},
   "outputs": [],
   "source": []
  },
  {
   "cell_type": "code",
   "execution_count": 335,
   "metadata": {},
   "outputs": [],
   "source": [
    "PANEL_SSI = PANEL_SSI.reset_index()\n",
    "#since our pct_change variables now have NaN for 2005, we will remove that year\n",
    "PANEL_SSI = PANEL_SSI[PANEL_SSI[\"Year\"] != 2005]\n",
    "#excluding district of colombia\n",
    "PANEL_SSI = PANEL_SSI[PANEL_SSI[\"State\"] != \"District of Columbia\"]"
   ]
  },
  {
   "cell_type": "code",
   "execution_count": 337,
   "metadata": {},
   "outputs": [],
   "source": [
    "PANEL_SSI['Pct_Bene'] = PANEL_SSI[\"Beneficiaries\"]/PANEL_SSI[\"Pop\"]\n",
    "#output our panel to csv\n",
    "PANEL_SSI.to_csv(\".\\SSI ACA Data\\PANEL_SSI.csv\")"
   ]
  },
  {
   "cell_type": "code",
   "execution_count": 295,
   "metadata": {
    "collapsed": true
   },
   "outputs": [],
   "source": [
    "#this data is cut and paste from a pdf, so each value is on its own line\n",
    "df = pd.read_excel('.\\SSI ACA Data\\ACA Enroll cut paste.xlsx', header=None, sheetname='2014')"
   ]
  },
  {
   "cell_type": "code",
   "execution_count": 296,
   "metadata": {
    "collapsed": true
   },
   "outputs": [],
   "source": [
    "df2=pd.DataFrame()\n",
    "#for 2014 data, the enrollments appear every 5th line\n",
    "df2['State'] = [df.loc[n,0] for n in range(0,255,5)]\n",
    "df2['Year'] = 2014\n",
    "df2['ACA_Enroll'] = [df.loc[n,0] for n in range (4, 255,5)]"
   ]
  },
  {
   "cell_type": "code",
   "execution_count": 297,
   "metadata": {
    "collapsed": true
   },
   "outputs": [],
   "source": [
    "ACA_ENROLL = df2"
   ]
  },
  {
   "cell_type": "code",
   "execution_count": 298,
   "metadata": {
    "collapsed": true
   },
   "outputs": [],
   "source": [
    "df = pd.read_excel('.\\SSI ACA Data\\ACA Enroll cut paste.xlsx', header=None, sheetname='2015')\n",
    "df2=pd.DataFrame()\n",
    "#for 2015 data, the format was changed and the enrollments are in every 6th line\n",
    "df2['State'] = [df.loc[n,0] for n in range(0,306,6)]\n",
    "df2['Year'] = 2015\n",
    "df2['ACA_Enroll'] = [df.loc[n,0] for n in range (1, 306,6)]"
   ]
  },
  {
   "cell_type": "code",
   "execution_count": 299,
   "metadata": {
    "collapsed": true
   },
   "outputs": [],
   "source": [
    "ACA_ENROLL = df2.append(ACA_ENROLL)"
   ]
  },
  {
   "cell_type": "code",
   "execution_count": 300,
   "metadata": {
    "collapsed": true,
    "scrolled": false
   },
   "outputs": [],
   "source": [
    "#strip out footnotes like \"(1)\" that are in the state names\n",
    "ACA_ENROLL[\"State\"] = ACA_ENROLL[\"State\"].replace(regex=True, to_replace=\"[\\(\\)0-9]*\", value=\"\").str.strip()"
   ]
  },
  {
   "cell_type": "code",
   "execution_count": 301,
   "metadata": {
    "collapsed": true
   },
   "outputs": [],
   "source": [
    "#dummy variable for whether the state expanded medicaid under the ACA\n",
    "df = pd.read_csv('.\\SSI ACA Data\\medicaid expansion.csv', engine=\"python\", header =2, skipfooter=14)\n",
    "df = df.rename(columns = {\"Location\":\"State\", \"Current Status of Medicaid Expansion Decision\":\"MedExpDummy\"})\n",
    "df = df.drop(\"Footnotes\", axis=1)\n",
    "df = df.replace(dict({\"MedExpDummy\": {\"Not Adopted\":0, \"Adopted\":1}})).drop(0, axis=0)\n",
    "df = df.set_index(\"State\")\n",
    "\n",
    "#5 expansion states didn't expand medicaid within the period of interest - see notes in source\n",
    "df.loc[\"Pennsylvania\", \"MedExpDummy\"] = 0\n",
    "df.loc[\"Indiana\", \"MedExpDummy\"] = 0\n",
    "df.loc[\"Alaska\", \"MedExpDummy\"] = 0\n",
    "df.loc[\"Montana\", \"MedExpDummy\"] = 0\n",
    "df.loc[\"Louisiana\", \"MedExpDummy\"] = 0\n",
    "df = df.reset_index()\n",
    "ACA_ENROLL = df.merge(ACA_ENROLL, on=\"State\")"
   ]
  },
  {
   "cell_type": "code",
   "execution_count": 302,
   "metadata": {
    "collapsed": true
   },
   "outputs": [],
   "source": [
    "ACA_ENROLL = ACA_ENROLL.set_index(['State', 'Year']).sort_index()\n",
    "ACA_ENROLL[\"d_pct_ACA_Enroll\"] = ACA_ENROLL[\"ACA_Enroll\"].pct_change()"
   ]
  },
  {
   "cell_type": "code",
   "execution_count": 303,
   "metadata": {
    "collapsed": true
   },
   "outputs": [],
   "source": [
    "ACA_ENROLL = ACA_ENROLL.reset_index()\n",
    "ACA_ENROLL = ACA_ENROLL[ACA_ENROLL[\"Year\"] == 2015]"
   ]
  },
  {
   "cell_type": "code",
   "execution_count": 304,
   "metadata": {
    "collapsed": true
   },
   "outputs": [],
   "source": [
    "ACA_ENROLL = ACA_ENROLL.merge(PANEL_SSI, on = [\"State\", \"Year\"])"
   ]
  },
  {
   "cell_type": "code",
   "execution_count": 305,
   "metadata": {
    "collapsed": true
   },
   "outputs": [],
   "source": [
    "ACA_ENROLL.to_csv(\".\\SSI ACA Data\\ACA_ENROLL.csv\")"
   ]
  },
  {
   "cell_type": "code",
   "execution_count": null,
   "metadata": {
    "collapsed": true
   },
   "outputs": [],
   "source": []
  },
  {
   "cell_type": "code",
   "execution_count": null,
   "metadata": {
    "collapsed": true
   },
   "outputs": [],
   "source": []
  }
 ],
 "metadata": {
  "kernelspec": {
   "display_name": "Python 3",
   "language": "python",
   "name": "python3"
  },
  "language_info": {
   "codemirror_mode": {
    "name": "ipython",
    "version": 3
   },
   "file_extension": ".py",
   "mimetype": "text/x-python",
   "name": "python",
   "nbconvert_exporter": "python",
   "pygments_lexer": "ipython3",
   "version": "3.6.1"
  }
 },
 "nbformat": 4,
 "nbformat_minor": 2
}
