{
 "cells": [
  {
   "cell_type": "code",
   "execution_count": 2,
   "metadata": {},
   "outputs": [
    {
     "name": "stdout",
     "output_type": "stream",
     "text": [
      "Populating the interactive namespace from numpy and matplotlib\n"
     ]
    },
    {
     "name": "stderr",
     "output_type": "stream",
     "text": [
      "C:\\Users\\Will\\Anaconda3\\lib\\site-packages\\statsmodels\\compat\\pandas.py:56: FutureWarning: The pandas.core.datetools module is deprecated and will be removed in a future version. Please use the pandas.tseries module instead.\n",
      "  from pandas.core import datetools\n"
     ]
    }
   ],
   "source": [
    "%pylab inline \n",
    "\n",
    "import numpy as np\n",
    "import pandas as pd\n",
    "import scipy.stats as stats\n",
    "import statsmodels.api as sm\n",
    "from statsmodels.formula.api import ols\n",
    "from linearmodels.panel import PanelOLS\n",
    "import matplotlib.pyplot as plt\n",
    "import matplotlib.ticker as mtick"
   ]
  },
  {
   "cell_type": "code",
   "execution_count": 3,
   "metadata": {
    "collapsed": true
   },
   "outputs": [],
   "source": [
    "df = pd.read_csv(\"./SSI ACA Data/PANEL_SSI.csv\")\n",
    "df = df[df['State']!=\"United States\"]\n",
    "df = df.drop(\"Unnamed: 0\", axis=1)"
   ]
  },
  {
   "cell_type": "code",
   "execution_count": 4,
   "metadata": {
    "collapsed": true
   },
   "outputs": [],
   "source": [
    "index = pd.MultiIndex.from_product([df.State.unique(), df.Year.unique()], names=[\"entity\", \"time\"])"
   ]
  },
  {
   "cell_type": "code",
   "execution_count": 5,
   "metadata": {
    "collapsed": true
   },
   "outputs": [],
   "source": [
    "df = df.set_index(index)"
   ]
  },
  {
   "cell_type": "code",
   "execution_count": 6,
   "metadata": {
    "collapsed": true
   },
   "outputs": [],
   "source": [
    "#get all possible features from the feature set we've chosen\n",
    "possible_xs = list(df.columns[logical_and(df.columns.str.contains(\"d_pct\"),~df.columns.str.contains(\"d_pct_Bene\"))])\n",
    "xs = []"
   ]
  },
  {
   "cell_type": "code",
   "execution_count": 7,
   "metadata": {
    "collapsed": true
   },
   "outputs": [],
   "source": [
    "#step forward feature selection using panel OLS (built in sklearn implementation doesnt do panel data models)\n",
    "highestF=0\n",
    "best_x = \"\"\n",
    "num_items = len(possible_xs)\n",
    "for i in range(0,num_items):\n",
    "    for j in range(0,len(possible_xs)):\n",
    "        params = xs[:]\n",
    "        params.append(possible_xs[j])\n",
    "        model = PanelOLS(df.d_pct_BenePerCap, df[params], entity_effects=True)\n",
    "        res = model.fit(cov_type='clustered', cluster_entity=True)\n",
    "        if res.f_statistic.stat >= highestF:\n",
    "            highestF = res.f_statistic.stat\n",
    "            best_x = possible_xs[j]\n",
    "    if xs.count(best_x)==0:\n",
    "        xs.append(best_x)\n",
    "        possible_xs.remove(best_x)\n"
   ]
  },
  {
   "cell_type": "code",
   "execution_count": 8,
   "metadata": {
    "collapsed": true
   },
   "outputs": [],
   "source": [
    "model = PanelOLS(df.d_pct_BenePerCap, df[xs], entity_effects=True)\n",
    "res = model.fit(cov_type='clustered', cluster_entity=True)"
   ]
  },
  {
   "cell_type": "code",
   "execution_count": 9,
   "metadata": {},
   "outputs": [
    {
     "data": {
      "text/html": [
       "<table class=\"simpletable\">\n",
       "<caption>PanelOLS Estimation Summary</caption>\n",
       "<tr>\n",
       "  <th>Dep. Variable:</th>    <td>d_pct_BenePerCap</td> <th>  R-squared:         </th>    <td>0.0455</td> \n",
       "</tr>\n",
       "<tr>\n",
       "  <th>Estimator:</th>            <td>PanelOLS</td>     <th>  R-squared (Between):</th>   <td>-0.0542</td>\n",
       "</tr>\n",
       "<tr>\n",
       "  <th>No. Observations:</th>        <td>500</td>       <th>  R-squared (Within):</th>    <td>0.0455</td> \n",
       "</tr>\n",
       "<tr>\n",
       "  <th>Date:</th>             <td>Tue, Sep 26 2017</td> <th>  R-squared (Overall):</th>   <td>-0.0046</td>\n",
       "</tr>\n",
       "<tr>\n",
       "  <th>Time:</th>                 <td>22:20:37</td>     <th>  Log-likelihood     </th>    <td>1214.0</td> \n",
       "</tr>\n",
       "<tr>\n",
       "  <th>Cov. Estimator:</th>       <td>Clustered</td>    <th>                     </th>       <td></td>    \n",
       "</tr>\n",
       "<tr>\n",
       "  <th></th>                          <td></td>         <th>  F-statistic:       </th>    <td>21.386</td> \n",
       "</tr>\n",
       "<tr>\n",
       "  <th>Entities:</th>                <td>50</td>        <th>  P-value            </th>    <td>0.0000</td> \n",
       "</tr>\n",
       "<tr>\n",
       "  <th>Avg Obs:</th>               <td>10.0000</td>     <th>  Distribution:      </th>   <td>F(1,449)</td>\n",
       "</tr>\n",
       "<tr>\n",
       "  <th>Min Obs:</th>               <td>10.0000</td>     <th>                     </th>       <td></td>    \n",
       "</tr>\n",
       "<tr>\n",
       "  <th>Max Obs:</th>               <td>10.0000</td>     <th>  F-statistic (robust):</th>  <td>18.196</td> \n",
       "</tr>\n",
       "<tr>\n",
       "  <th></th>                          <td></td>         <th>  P-value            </th>    <td>0.0000</td> \n",
       "</tr>\n",
       "<tr>\n",
       "  <th>Time periods:</th>            <td>10</td>        <th>  Distribution:      </th>   <td>F(1,449)</td>\n",
       "</tr>\n",
       "<tr>\n",
       "  <th>Avg Obs:</th>               <td>50.000</td>      <th>                     </th>       <td></td>    \n",
       "</tr>\n",
       "<tr>\n",
       "  <th>Min Obs:</th>               <td>50.000</td>      <th>                     </th>       <td></td>    \n",
       "</tr>\n",
       "<tr>\n",
       "  <th>Max Obs:</th>               <td>50.000</td>      <th>                     </th>       <td></td>    \n",
       "</tr>\n",
       "<tr>\n",
       "  <th></th>                          <td></td>         <th>                     </th>       <td></td>    \n",
       "</tr>\n",
       "</table>\n",
       "<table class=\"simpletable\">\n",
       "<caption>Parameter Estimates</caption>\n",
       "<tr>\n",
       "         <td></td>         <th>Parameter</th> <th>Std. Err.</th> <th>T-stat</th>  <th>P-value</th> <th>Lower CI</th> <th>Upper CI</th>\n",
       "</tr>\n",
       "<tr>\n",
       "  <th>d_pct_EmpPerCap</th>  <td>-0.2459</td>   <td>0.0577</td>   <td>-4.2657</td> <td>0.0000</td>   <td>-0.3592</td>  <td>-0.1326</td>\n",
       "</tr>\n",
       "</table><br/><br/>F-test for Poolability: 1.2386<br/>P-value: 0.1379<br/>Distribution: F(49,449)<br/><br/>Included effects: Entity<br/>id: 0x28fc204a8d0"
      ],
      "text/plain": [
       "                          PanelOLS Estimation Summary                           \n",
       "================================================================================\n",
       "Dep. Variable:       d_pct_BenePerCap   R-squared:                        0.0455\n",
       "Estimator:                   PanelOLS   R-squared (Between):             -0.0542\n",
       "No. Observations:                 500   R-squared (Within):               0.0455\n",
       "Date:                Tue, Sep 26 2017   R-squared (Overall):             -0.0046\n",
       "Time:                        22:20:37   Log-likelihood                    1214.0\n",
       "Cov. Estimator:             Clustered                                           \n",
       "                                        F-statistic:                      21.386\n",
       "Entities:                          50   P-value                           0.0000\n",
       "Avg Obs:                      10.0000   Distribution:                   F(1,449)\n",
       "Min Obs:                      10.0000                                           \n",
       "Max Obs:                      10.0000   F-statistic (robust):             18.196\n",
       "                                        P-value                           0.0000\n",
       "Time periods:                      10   Distribution:                   F(1,449)\n",
       "Avg Obs:                       50.000                                           \n",
       "Min Obs:                       50.000                                           \n",
       "Max Obs:                       50.000                                           \n",
       "                                                                                \n",
       "                                Parameter Estimates                                \n",
       "===================================================================================\n",
       "                 Parameter  Std. Err.     T-stat    P-value    Lower CI    Upper CI\n",
       "-----------------------------------------------------------------------------------\n",
       "d_pct_EmpPerCap    -0.2459     0.0577    -4.2657     0.0000     -0.3592     -0.1326\n",
       "===================================================================================\n",
       "\n",
       "F-test for Poolability: 1.2386\n",
       "P-value: 0.1379\n",
       "Distribution: F(49,449)\n",
       "\n",
       "Included effects: Entity\n",
       "PanelEffectsResults, id: 0x28fc204a8d0"
      ]
     },
     "execution_count": 9,
     "metadata": {},
     "output_type": "execute_result"
    }
   ],
   "source": [
    "res"
   ]
  },
  {
   "cell_type": "code",
   "execution_count": 10,
   "metadata": {},
   "outputs": [
    {
     "name": "stdout",
     "output_type": "stream",
     "text": [
      "2008 53.45495544549032 3.01594468147\n",
      "2009 58.22593040508771 3.01594468147\n",
      "2010 67.15178231909589 3.01594468147\n",
      "2011 74.10465636350376 3.01594468147\n",
      "2012 100.75255322306971 3.01594468147\n",
      "2013 101.84845919497775 3.01594468147\n"
     ]
    }
   ],
   "source": [
    "#compute chow test for range of breakpoints from 2008 through 2013 inclusive\n",
    "for i in range(2008, 2014):\n",
    "    model = PanelOLS(df[logical_and(df[\"Year\"]>2006,df[\"Year\"]<=i)].d_pct_BenePerCap, df[logical_and(df[\"Year\"]>2006,df[\"Year\"]<=i)][xs], entity_effects=True)\n",
    "    res_1 = model.fit(cov_type='clustered', cluster_entity=True)\n",
    "    model = PanelOLS(df[logical_and(df[\"Year\"]>i,df[\"Year\"]<=2015)].d_pct_BenePerCap, df[logical_and(df[\"Year\"]>i,df[\"Year\"]<=2015)][xs], entity_effects=True)\n",
    "    res_2 = model.fit(cov_type='clustered', cluster_entity=True)\n",
    "    chow = ((res.resid_ss-(res_1.resid_ss + res_2.resid_ss))/ 2)/((res_1.resid_ss + res_2.resid_ss)/(res_1.nobs+res_2.nobs - 2*52))\n",
    "    print(str(i)+\" \"+str(chow) + \" \" + str(stats.f.ppf(q=1-0.05, dfn = 2, dfd= res_1.nobs+res_2.nobs - 2*2)))"
   ]
  },
  {
   "cell_type": "code",
   "execution_count": 205,
   "metadata": {},
   "outputs": [
    {
     "data": {
      "text/plain": [
       "d_pct_EmpPerCap    450.491845\n",
       "Name: parameter, dtype: float64"
      ]
     },
     "execution_count": 205,
     "metadata": {},
     "output_type": "execute_result"
    }
   ],
   "source": [
    "#unfortunately due to the minimal expanatory power of the model, the chow test detects structural breaks at each year. \n",
    "#it is highly likely this particular fixed effect model is misspecified"
   ]
  },
  {
   "cell_type": "code",
   "execution_count": null,
   "metadata": {
    "collapsed": true
   },
   "outputs": [],
   "source": []
  }
 ],
 "metadata": {
  "kernelspec": {
   "display_name": "Python 3",
   "language": "python",
   "name": "python3"
  },
  "language_info": {
   "codemirror_mode": {
    "name": "ipython",
    "version": 3
   },
   "file_extension": ".py",
   "mimetype": "text/x-python",
   "name": "python",
   "nbconvert_exporter": "python",
   "pygments_lexer": "ipython3",
   "version": "3.6.1"
  }
 },
 "nbformat": 4,
 "nbformat_minor": 2
}
