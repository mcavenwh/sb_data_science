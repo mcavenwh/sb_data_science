{
 "cells": [
  {
   "cell_type": "code",
   "execution_count": 145,
   "metadata": {},
   "outputs": [
    {
     "name": "stdout",
     "output_type": "stream",
     "text": [
      "Populating the interactive namespace from numpy and matplotlib\n"
     ]
    }
   ],
   "source": [
    "%pylab inline \n",
    "\n",
    "import numpy as np\n",
    "import pandas as pd\n",
    "import scipy.stats as stats\n",
    "import statsmodels.api as sm\n",
    "from statsmodels.formula.api import ols\n",
    "from linearmodels.panel import PanelOLS\n",
    "import matplotlib.pyplot as plt\n",
    "import matplotlib.ticker as mtick\n"
   ]
  },
  {
   "cell_type": "code",
   "execution_count": 168,
   "metadata": {},
   "outputs": [],
   "source": [
    "df = pd.read_csv(\"./SSI ACA Data/PANEL_SSI.csv\")\n",
    "df = df[logical_and(df['State']!=\"United States\", df['Year']!=2006)]\n",
    "df = df.drop(\"Unnamed: 0\", axis=1)"
   ]
  },
  {
   "cell_type": "code",
   "execution_count": 169,
   "metadata": {
    "collapsed": true
   },
   "outputs": [],
   "source": [
    "index = pd.MultiIndex.from_product([df.State.unique(), df.Year.unique()], names=[\"entity\", \"time\"])"
   ]
  },
  {
   "cell_type": "code",
   "execution_count": 170,
   "metadata": {
    "collapsed": true
   },
   "outputs": [],
   "source": [
    "df = df.set_index(index)"
   ]
  },
  {
   "cell_type": "code",
   "execution_count": 171,
   "metadata": {},
   "outputs": [
    {
     "data": {
      "text/plain": [
       "['d_pct_CompPerJob',\n",
       " 'd_pct_PIPerCap',\n",
       " 'd_pct_GDPPerCap',\n",
       " 'd_pct_CompPerCap',\n",
       " 'd_pct_WagePerCap',\n",
       " 'd_pct_EmpPerCap',\n",
       " 'd_pct_AvgAge',\n",
       " 'd_pct_Pov',\n",
       " 'd_pct_CompPerJob_1',\n",
       " 'd_pct_PIPerCap_1',\n",
       " 'd_pct_GDPPerCap_1',\n",
       " 'd_pct_CompPerCap_1',\n",
       " 'd_pct_WagePerCap_1',\n",
       " 'd_pct_EmpPerCap_1',\n",
       " 'd_pct_AvgAge_1',\n",
       " 'd_pct_Pov_1']"
      ]
     },
     "execution_count": 171,
     "metadata": {},
     "output_type": "execute_result"
    }
   ],
   "source": [
    "#get all possible features from the feature set we've chosen\n",
    "possible_xs = list(df.columns[logical_and(df.columns.str.contains(\"d_pct\"),~(df.columns.str.contains(\"BenePerCap\")))])\n",
    "xs = []\n",
    "possible_xs"
   ]
  },
  {
   "cell_type": "code",
   "execution_count": 172,
   "metadata": {},
   "outputs": [],
   "source": [
    "#step forward feature selection using panel OLS (built in sklearn implementation doesnt do PanelOLS as far as I can tell)\n",
    "#I am selecting features based on the overall significance of the model, starting with a univariate model\n",
    "#and adding additional variables as they improve the F score of the model\n",
    "\n",
    "highest=0\n",
    "best_x = \"\"\n",
    "num_items = len(possible_xs)\n",
    "for i in range(0,num_items):\n",
    "    for j in range(0,len(possible_xs)):\n",
    "        params = xs[:]\n",
    "        params.append(possible_xs[j])\n",
    "        model = PanelOLS(df.d_pct_BenePerCap, df[params], entity_effects=True)\n",
    "        res = model.fit(cov_type='clustered', cluster_entity=True)\n",
    "        if res.f_statistic.stat >= highest:\n",
    "            highest = res.f_statistic.stat\n",
    "            best_x = possible_xs[j]\n",
    "    if xs.count(best_x)==0:\n",
    "        xs.append(best_x)\n",
    "        possible_xs.remove(best_x)\n"
   ]
  },
  {
   "cell_type": "code",
   "execution_count": 174,
   "metadata": {
    "scrolled": false
   },
   "outputs": [
    {
     "data": {
      "text/html": [
       "<table class=\"simpletable\">\n",
       "<caption>PanelOLS Estimation Summary</caption>\n",
       "<tr>\n",
       "  <th>Dep. Variable:</th>    <td>d_pct_BenePerCap</td> <th>  R-squared:         </th>    <td>0.2199</td> \n",
       "</tr>\n",
       "<tr>\n",
       "  <th>Estimator:</th>            <td>PanelOLS</td>     <th>  R-squared (Between):</th>   <td>-0.0375</td>\n",
       "</tr>\n",
       "<tr>\n",
       "  <th>No. Observations:</th>        <td>450</td>       <th>  R-squared (Within):</th>    <td>0.2199</td> \n",
       "</tr>\n",
       "<tr>\n",
       "  <th>Date:</th>             <td>Thu, Sep 28 2017</td> <th>  R-squared (Overall):</th>   <td>0.0584</td> \n",
       "</tr>\n",
       "<tr>\n",
       "  <th>Time:</th>                 <td>02:11:21</td>     <th>  Log-likelihood     </th>    <td>1257.2</td> \n",
       "</tr>\n",
       "<tr>\n",
       "  <th>Cov. Estimator:</th>       <td>Clustered</td>    <th>                     </th>       <td></td>    \n",
       "</tr>\n",
       "<tr>\n",
       "  <th></th>                          <td></td>         <th>  F-statistic:       </th>    <td>112.49</td> \n",
       "</tr>\n",
       "<tr>\n",
       "  <th>Entities:</th>                <td>50</td>        <th>  P-value            </th>    <td>0.0000</td> \n",
       "</tr>\n",
       "<tr>\n",
       "  <th>Avg Obs:</th>               <td>9.0000</td>      <th>  Distribution:      </th>   <td>F(1,399)</td>\n",
       "</tr>\n",
       "<tr>\n",
       "  <th>Min Obs:</th>               <td>9.0000</td>      <th>                     </th>       <td></td>    \n",
       "</tr>\n",
       "<tr>\n",
       "  <th>Max Obs:</th>               <td>9.0000</td>      <th>  F-statistic (robust):</th>  <td>56.734</td> \n",
       "</tr>\n",
       "<tr>\n",
       "  <th></th>                          <td></td>         <th>  P-value            </th>    <td>0.0000</td> \n",
       "</tr>\n",
       "<tr>\n",
       "  <th>Time periods:</th>             <td>9</td>        <th>  Distribution:      </th>   <td>F(1,399)</td>\n",
       "</tr>\n",
       "<tr>\n",
       "  <th>Avg Obs:</th>               <td>50.000</td>      <th>                     </th>       <td></td>    \n",
       "</tr>\n",
       "<tr>\n",
       "  <th>Min Obs:</th>               <td>50.000</td>      <th>                     </th>       <td></td>    \n",
       "</tr>\n",
       "<tr>\n",
       "  <th>Max Obs:</th>               <td>50.000</td>      <th>                     </th>       <td></td>    \n",
       "</tr>\n",
       "<tr>\n",
       "  <th></th>                          <td></td>         <th>                     </th>       <td></td>    \n",
       "</tr>\n",
       "</table>\n",
       "<table class=\"simpletable\">\n",
       "<caption>Parameter Estimates</caption>\n",
       "<tr>\n",
       "          <td></td>          <th>Parameter</th> <th>Std. Err.</th> <th>T-stat</th>  <th>P-value</th> <th>Lower CI</th> <th>Upper CI</th>\n",
       "</tr>\n",
       "<tr>\n",
       "  <th>d_pct_EmpPerCap_1</th>  <td>-0.4071</td>   <td>0.0540</td>   <td>-7.5322</td> <td>0.0000</td>   <td>-0.5133</td>  <td>-0.3008</td>\n",
       "</tr>\n",
       "</table><br/><br/>F-test for Poolability: 2.3564<br/>P-value: 0.0000<br/>Distribution: F(49,399)<br/><br/>Included effects: Entity<br/>id: 0x28fc2f113c8"
      ],
      "text/plain": [
       "                          PanelOLS Estimation Summary                           \n",
       "================================================================================\n",
       "Dep. Variable:       d_pct_BenePerCap   R-squared:                        0.2199\n",
       "Estimator:                   PanelOLS   R-squared (Between):             -0.0375\n",
       "No. Observations:                 450   R-squared (Within):               0.2199\n",
       "Date:                Thu, Sep 28 2017   R-squared (Overall):              0.0584\n",
       "Time:                        02:11:21   Log-likelihood                    1257.2\n",
       "Cov. Estimator:             Clustered                                           \n",
       "                                        F-statistic:                      112.49\n",
       "Entities:                          50   P-value                           0.0000\n",
       "Avg Obs:                       9.0000   Distribution:                   F(1,399)\n",
       "Min Obs:                       9.0000                                           \n",
       "Max Obs:                       9.0000   F-statistic (robust):             56.734\n",
       "                                        P-value                           0.0000\n",
       "Time periods:                       9   Distribution:                   F(1,399)\n",
       "Avg Obs:                       50.000                                           \n",
       "Min Obs:                       50.000                                           \n",
       "Max Obs:                       50.000                                           \n",
       "                                                                                \n",
       "                                 Parameter Estimates                                 \n",
       "=====================================================================================\n",
       "                   Parameter  Std. Err.     T-stat    P-value    Lower CI    Upper CI\n",
       "-------------------------------------------------------------------------------------\n",
       "d_pct_EmpPerCap_1    -0.4071     0.0540    -7.5322     0.0000     -0.5133     -0.3008\n",
       "=====================================================================================\n",
       "\n",
       "F-test for Poolability: 2.3564\n",
       "P-value: 0.0000\n",
       "Distribution: F(49,399)\n",
       "\n",
       "Included effects: Entity\n",
       "PanelEffectsResults, id: 0x28fc2f113c8"
      ]
     },
     "execution_count": 174,
     "metadata": {},
     "output_type": "execute_result"
    }
   ],
   "source": [
    "model = PanelOLS(df.d_pct_BenePerCap, df[xs], entity_effects=True)\n",
    "res = model.fit(cov_type='clustered', cluster_entity=True)\n",
    "res"
   ]
  },
  {
   "cell_type": "code",
   "execution_count": 173,
   "metadata": {},
   "outputs": [
    {
     "data": {
      "text/plain": [
       "['d_pct_EmpPerCap_1']"
      ]
     },
     "execution_count": 173,
     "metadata": {},
     "output_type": "execute_result"
    }
   ],
   "source": [
    "xs"
   ]
  },
  {
   "cell_type": "code",
   "execution_count": 152,
   "metadata": {
    "scrolled": false
   },
   "outputs": [],
   "source": [
    "#grab each states estimated fixed effects for later use\n",
    "df = res.estimated_effects.reset_index()\n",
    "df[\"effects\"] = round(df[\"effects\"], 6)\n",
    "df = df[[\"entity\", \"effects\"]].drop_duplicates()\n",
    "df.to_csv(\".\\SSI ACA Data\\state_effects.csv\")"
   ]
  },
  {
   "cell_type": "code",
   "execution_count": 175,
   "metadata": {},
   "outputs": [
    {
     "name": "stdout",
     "output_type": "stream",
     "text": [
      "2009\n",
      "                          PanelOLS Estimation Summary                           \n",
      "================================================================================\n",
      "Dep. Variable:       d_pct_BenePerCap   R-squared:                        0.3109\n",
      "Estimator:                   PanelOLS   R-squared (Between):             -1.1584\n",
      "No. Observations:                 450   R-squared (Within):               0.3109\n",
      "Date:                Thu, Sep 28 2017   R-squared (Overall):             -0.6112\n",
      "Time:                        02:11:50   Log-likelihood                    1285.1\n",
      "Cov. Estimator:             Clustered                                           \n",
      "                                        F-statistic:                      89.793\n",
      "Entities:                          50   P-value                           0.0000\n",
      "Avg Obs:                       9.0000   Distribution:                   F(2,398)\n",
      "Min Obs:                       9.0000                                           \n",
      "Max Obs:                       9.0000   F-statistic (robust):             77.705\n",
      "                                        P-value                           0.0000\n",
      "Time periods:                       9   Distribution:                   F(2,398)\n",
      "Avg Obs:                       50.000                                           \n",
      "Min Obs:                       50.000                                           \n",
      "Max Obs:                       50.000                                           \n",
      "                                                                                \n",
      "                                 Parameter Estimates                                 \n",
      "=====================================================================================\n",
      "                   Parameter  Std. Err.     T-stat    P-value    Lower CI    Upper CI\n",
      "-------------------------------------------------------------------------------------\n",
      "d_pct_EmpPerCap_1    -0.5085     0.0506    -10.053     0.0000     -0.6079     -0.4091\n",
      "dummies              -0.0130     0.0017    -7.7009     0.0000     -0.0164     -0.0097\n",
      "=====================================================================================\n",
      "\n",
      "F-test for Poolability: 2.6537\n",
      "P-value: 0.0000\n",
      "Distribution: F(49,398)\n",
      "\n",
      "Included effects: Entity\n",
      "2010\n",
      "                          PanelOLS Estimation Summary                           \n",
      "================================================================================\n",
      "Dep. Variable:       d_pct_BenePerCap   R-squared:                        0.3924\n",
      "Estimator:                   PanelOLS   R-squared (Between):             -1.1474\n",
      "No. Observations:                 450   R-squared (Within):               0.3924\n",
      "Date:                Thu, Sep 28 2017   R-squared (Overall):             -0.5740\n",
      "Time:                        02:11:50   Log-likelihood                    1313.4\n",
      "Cov. Estimator:             Clustered                                           \n",
      "                                        F-statistic:                      128.49\n",
      "Entities:                          50   P-value                           0.0000\n",
      "Avg Obs:                       9.0000   Distribution:                   F(2,398)\n",
      "Min Obs:                       9.0000                                           \n",
      "Max Obs:                       9.0000   F-statistic (robust):             114.18\n",
      "                                        P-value                           0.0000\n",
      "Time periods:                       9   Distribution:                   F(2,398)\n",
      "Avg Obs:                       50.000                                           \n",
      "Min Obs:                       50.000                                           \n",
      "Max Obs:                       50.000                                           \n",
      "                                                                                \n",
      "                                 Parameter Estimates                                 \n",
      "=====================================================================================\n",
      "                   Parameter  Std. Err.     T-stat    P-value    Lower CI    Upper CI\n",
      "-------------------------------------------------------------------------------------\n",
      "d_pct_EmpPerCap_1    -0.4879     0.0462    -10.568     0.0000     -0.5787     -0.3972\n",
      "dummies              -0.0151     0.0016    -9.4647     0.0000     -0.0183     -0.0120\n",
      "=====================================================================================\n",
      "\n",
      "F-test for Poolability: 3.0097\n",
      "P-value: 0.0000\n",
      "Distribution: F(49,398)\n",
      "\n",
      "Included effects: Entity\n",
      "2011\n",
      "                          PanelOLS Estimation Summary                           \n",
      "================================================================================\n",
      "Dep. Variable:       d_pct_BenePerCap   R-squared:                        0.4114\n",
      "Estimator:                   PanelOLS   R-squared (Between):             -0.9117\n",
      "No. Observations:                 450   R-squared (Within):               0.4114\n",
      "Date:                Thu, Sep 28 2017   R-squared (Overall):             -0.4189\n",
      "Time:                        02:11:50   Log-likelihood                    1320.6\n",
      "Cov. Estimator:             Clustered                                           \n",
      "                                        F-statistic:                      139.08\n",
      "Entities:                          50   P-value                           0.0000\n",
      "Avg Obs:                       9.0000   Distribution:                   F(2,398)\n",
      "Min Obs:                       9.0000                                           \n",
      "Max Obs:                       9.0000   F-statistic (robust):             131.52\n",
      "                                        P-value                           0.0000\n",
      "Time periods:                       9   Distribution:                   F(2,398)\n",
      "Avg Obs:                       50.000                                           \n",
      "Min Obs:                       50.000                                           \n",
      "Max Obs:                       50.000                                           \n",
      "                                                                                \n",
      "                                 Parameter Estimates                                 \n",
      "=====================================================================================\n",
      "                   Parameter  Std. Err.     T-stat    P-value    Lower CI    Upper CI\n",
      "-------------------------------------------------------------------------------------\n",
      "d_pct_EmpPerCap_1    -0.3136     0.0434    -7.2224     0.0000     -0.3990     -0.2283\n",
      "dummies              -0.0152     0.0013    -11.495     0.0000     -0.0178     -0.0126\n",
      "=====================================================================================\n",
      "\n",
      "F-test for Poolability: 3.1378\n",
      "P-value: 0.0000\n",
      "Distribution: F(49,398)\n",
      "\n",
      "Included effects: Entity\n",
      "2012\n",
      "                          PanelOLS Estimation Summary                           \n",
      "================================================================================\n",
      "Dep. Variable:       d_pct_BenePerCap   R-squared:                        0.3871\n",
      "Estimator:                   PanelOLS   R-squared (Between):             -0.7068\n",
      "No. Observations:                 450   R-squared (Within):               0.3871\n",
      "Date:                Thu, Sep 28 2017   R-squared (Overall):             -0.2994\n",
      "Time:                        02:11:50   Log-likelihood                    1311.5\n",
      "Cov. Estimator:             Clustered                                           \n",
      "                                        F-statistic:                      125.71\n",
      "Entities:                          50   P-value                           0.0000\n",
      "Avg Obs:                       9.0000   Distribution:                   F(2,398)\n",
      "Min Obs:                       9.0000                                           \n",
      "Max Obs:                       9.0000   F-statistic (robust):             137.39\n",
      "                                        P-value                           0.0000\n",
      "Time periods:                       9   Distribution:                   F(2,398)\n",
      "Avg Obs:                       50.000                                           \n",
      "Min Obs:                       50.000                                           \n",
      "Max Obs:                       50.000                                           \n",
      "                                                                                \n",
      "                                 Parameter Estimates                                 \n",
      "=====================================================================================\n",
      "                   Parameter  Std. Err.     T-stat    P-value    Lower CI    Upper CI\n",
      "-------------------------------------------------------------------------------------\n",
      "d_pct_EmpPerCap_1    -0.2349     0.0543    -4.3241     0.0000     -0.3417     -0.1281\n",
      "dummies              -0.0153     0.0014    -10.692     0.0000     -0.0182     -0.0125\n",
      "=====================================================================================\n",
      "\n",
      "F-test for Poolability: 3.0421\n",
      "P-value: 0.0000\n",
      "Distribution: F(49,398)\n",
      "\n",
      "Included effects: Entity\n",
      "2013\n",
      "                          PanelOLS Estimation Summary                           \n",
      "================================================================================\n",
      "Dep. Variable:       d_pct_BenePerCap   R-squared:                        0.5167\n",
      "Estimator:                   PanelOLS   R-squared (Between):             -0.7254\n",
      "No. Observations:                 450   R-squared (Within):               0.5167\n",
      "Date:                Thu, Sep 28 2017   R-squared (Overall):             -0.2628\n",
      "Time:                        02:11:50   Log-likelihood                    1364.9\n",
      "Cov. Estimator:             Clustered                                           \n",
      "                                        F-statistic:                      212.74\n",
      "Entities:                          50   P-value                           0.0000\n",
      "Avg Obs:                       9.0000   Distribution:                   F(2,398)\n",
      "Min Obs:                       9.0000                                           \n",
      "Max Obs:                       9.0000   F-statistic (robust):             239.16\n",
      "                                        P-value                           0.0000\n",
      "Time periods:                       9   Distribution:                   F(2,398)\n",
      "Avg Obs:                       50.000                                           \n",
      "Min Obs:                       50.000                                           \n",
      "Max Obs:                       50.000                                           \n",
      "                                                                                \n",
      "                                 Parameter Estimates                                 \n",
      "=====================================================================================\n",
      "                   Parameter  Std. Err.     T-stat    P-value    Lower CI    Upper CI\n",
      "-------------------------------------------------------------------------------------\n",
      "d_pct_EmpPerCap_1    -0.2080     0.0480    -4.3342     0.0000     -0.3023     -0.1136\n",
      "dummies              -0.0210     0.0011    -19.462     0.0000     -0.0231     -0.0189\n",
      "=====================================================================================\n",
      "\n",
      "F-test for Poolability: 3.8730\n",
      "P-value: 0.0000\n",
      "Distribution: F(49,398)\n",
      "\n",
      "Included effects: Entity\n"
     ]
    }
   ],
   "source": [
    "#compute wald test for range of breakpoints from 2009 through 2013 inclusive\n",
    "df = pd.read_csv(\"./SSI ACA Data/PANEL_SSI.csv\")\n",
    "df = df[logical_and(df['State']!=\"United States\", df['Year']!=2006)]\n",
    "df = df.drop(\"Unnamed: 0\", axis=1)\n",
    "index = pd.MultiIndex.from_product([df.State.unique(), df.Year.unique()], names=[\"entity\", \"time\"])\n",
    "df = df.set_index(index)\n",
    "xs.append(\"dummies\")\n",
    "for i in range(2009, 2014):\n",
    "    df[\"dummies\"] = np.where(df[\"Year\"]>=i, 1, 0)\n",
    "    model = PanelOLS(df.d_pct_BenePerCap, df[[\"d_pct_EmpPerCap_1\", \"dummies\"]], entity_effects=True)\n",
    "    res = model.fit(cov_type='clustered', cluster_entity=True)\n",
    "    print(i)\n",
    "    print(res.summary)"
   ]
  },
  {
   "cell_type": "code",
   "execution_count": 164,
   "metadata": {},
   "outputs": [
    {
     "data": {
      "text/plain": [
       "entity         time\n",
       "Connecticut    2007    0\n",
       "               2008    0\n",
       "               2009    0\n",
       "               2010    0\n",
       "               2011    0\n",
       "               2012    0\n",
       "               2013    1\n",
       "               2014    1\n",
       "               2015    1\n",
       "Maine          2007    0\n",
       "               2008    0\n",
       "               2009    0\n",
       "               2010    0\n",
       "               2011    0\n",
       "               2012    0\n",
       "               2013    1\n",
       "               2014    1\n",
       "               2015    1\n",
       "Massachusetts  2007    0\n",
       "               2008    0\n",
       "               2009    0\n",
       "               2010    0\n",
       "               2011    0\n",
       "               2012    0\n",
       "               2013    1\n",
       "               2014    1\n",
       "               2015    1\n",
       "New Hampshire  2007    0\n",
       "               2008    0\n",
       "               2009    0\n",
       "                      ..\n",
       "California     2013    1\n",
       "               2014    1\n",
       "               2015    1\n",
       "Hawaii         2007    0\n",
       "               2008    0\n",
       "               2009    0\n",
       "               2010    0\n",
       "               2011    0\n",
       "               2012    0\n",
       "               2013    1\n",
       "               2014    1\n",
       "               2015    1\n",
       "Oregon         2007    0\n",
       "               2008    0\n",
       "               2009    0\n",
       "               2010    0\n",
       "               2011    0\n",
       "               2012    0\n",
       "               2013    1\n",
       "               2014    1\n",
       "               2015    1\n",
       "Washington     2007    0\n",
       "               2008    0\n",
       "               2009    0\n",
       "               2010    0\n",
       "               2011    0\n",
       "               2012    0\n",
       "               2013    1\n",
       "               2014    1\n",
       "               2015    1\n",
       "Name: dummies, Length: 450, dtype: int32"
      ]
     },
     "execution_count": 164,
     "metadata": {},
     "output_type": "execute_result"
    }
   ],
   "source": [
    "df[\"dummies\"]"
   ]
  },
  {
   "cell_type": "code",
   "execution_count": null,
   "metadata": {},
   "outputs": [],
   "source": []
  },
  {
   "cell_type": "code",
   "execution_count": null,
   "metadata": {},
   "outputs": [],
   "source": []
  },
  {
   "cell_type": "code",
   "execution_count": null,
   "metadata": {},
   "outputs": [],
   "source": []
  },
  {
   "cell_type": "code",
   "execution_count": null,
   "metadata": {},
   "outputs": [],
   "source": []
  },
  {
   "cell_type": "code",
   "execution_count": null,
   "metadata": {},
   "outputs": [],
   "source": []
  },
  {
   "cell_type": "code",
   "execution_count": null,
   "metadata": {
    "collapsed": true
   },
   "outputs": [],
   "source": []
  }
 ],
 "metadata": {
  "kernelspec": {
   "display_name": "Python 3",
   "language": "python",
   "name": "python3"
  },
  "language_info": {
   "codemirror_mode": {
    "name": "ipython",
    "version": 3
   },
   "file_extension": ".py",
   "mimetype": "text/x-python",
   "name": "python",
   "nbconvert_exporter": "python",
   "pygments_lexer": "ipython3",
   "version": "3.6.1"
  }
 },
 "nbformat": 4,
 "nbformat_minor": 2
}
